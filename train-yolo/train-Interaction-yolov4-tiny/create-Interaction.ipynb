{
 "cells": [
  {
   "cell_type": "code",
   "execution_count": null,
   "metadata": {},
   "outputs": [],
   "source": [
    "import os, shutil"
   ]
  },
  {
   "cell_type": "code",
   "execution_count": null,
   "metadata": {},
   "outputs": [],
   "source": [
    "data_base_path = \"/home/erbl/data/roboflow\"\n",
    "os.chdir(data_base_path)"
   ]
  },
  {
   "cell_type": "code",
   "execution_count": null,
   "metadata": {},
   "outputs": [],
   "source": [
    "!pwd"
   ]
  },
  {
   "cell_type": "code",
   "execution_count": null,
   "metadata": {},
   "outputs": [],
   "source": [
    "# roboflow 데이터 다운받기\n",
    "!pip install roboflow\n",
    "\n",
    "from roboflow import Roboflow\n",
    "rf = Roboflow(api_key=\"X2gvBX7Me32fy3mU0Fkz\")\n",
    "project = rf.workspace(\"ebrlhfr-interaction\").project(\"interaction-nnzcz\")\n",
    "dataset = project.version(1).download(\"darknet\")"
   ]
  },
  {
   "cell_type": "markdown",
   "metadata": {},
   "source": [
    "# 새로 만든 데이터 N배 만들기"
   ]
  },
  {
   "cell_type": "code",
   "execution_count": null,
   "metadata": {},
   "outputs": [],
   "source": [
    "interaction_dataset_base_path = f\"{data_base_path}/Interaction-1\" # 수정 필요"
   ]
  },
  {
   "cell_type": "code",
   "execution_count": null,
   "metadata": {},
   "outputs": [],
   "source": [
    "train_dataset_base_path = f\"{interaction_dataset_base_path}/train\"\n",
    "valid_dataset_base_path = f\"{interaction_dataset_base_path}/valid\""
   ]
  },
  {
   "cell_type": "code",
   "execution_count": null,
   "metadata": {},
   "outputs": [],
   "source": [
    "def get_filename_list(base_path, *extension):\n",
    "\tall_filenames = os.listdir(base_path)\n",
    "\t\n",
    "\tif len(extension) > 0:\n",
    "\t\tresult = []\n",
    "\t\tfor ex in extension:\n",
    "\t\t\tresult += [\".\".join(filename.split(\".\")[:-1]) for filename in all_filenames if filename.endswith(f\".{ex}\")]\n",
    "\t\treturn result\n",
    "\n",
    "\treturn all_filenames\n"
   ]
  },
  {
   "cell_type": "code",
   "execution_count": null,
   "metadata": {},
   "outputs": [],
   "source": [
    "train_image_filename_list = get_filename_list(train_dataset_base_path, \"jpg\")\n",
    "valid_image_filename_list = get_filename_list(valid_dataset_base_path, \"jpg\")\n"
   ]
  },
  {
   "cell_type": "code",
   "execution_count": null,
   "metadata": {},
   "outputs": [],
   "source": [
    "# 확인\n",
    "print(len(train_image_filename_list))\n",
    "print(len(valid_image_filename_list))\n",
    "\n",
    "print(train_image_filename_list[:10])\n",
    "print(valid_image_filename_list[:10])\n"
   ]
  },
  {
   "cell_type": "code",
   "execution_count": null,
   "metadata": {},
   "outputs": [],
   "source": [
    "# 데이터셋 N배 증가하는 함수\n",
    "\n",
    "def copy_files_N_times(source_path, destination_path, *N):\n",
    "    filename_list = get_filename_list(source_path, \"jpg\")\n",
    "    if len(N): N = N[0]\n",
    "    else: N = 1\n",
    "    for index in range(N):\n",
    "        for filename in filename_list:\n",
    "            shutil.copyfile(f\"{source_path}/{filename}.jpg\", f\"{destination_path}/{filename}_{index}.jpg\")\n",
    "            shutil.copyfile(f\"{source_path}/{filename}.txt\", f\"{destination_path}/{filename}_{index}.txt\")"
   ]
  },
  {
   "cell_type": "code",
   "execution_count": null,
   "metadata": {},
   "outputs": [],
   "source": [
    "N = 8\n",
    "new_dataset_base_path = f\"{interaction_dataset_base_path}_{N}_times\""
   ]
  },
  {
   "cell_type": "code",
   "execution_count": null,
   "metadata": {},
   "outputs": [],
   "source": [
    "\n",
    "os.makedirs(new_dataset_base_path, exist_ok=True)\n",
    "os.makedirs(f\"{new_dataset_base_path}/train\", exist_ok=True)\n",
    "os.makedirs(f\"{new_dataset_base_path}/valid\", exist_ok=True)"
   ]
  },
  {
   "cell_type": "code",
   "execution_count": null,
   "metadata": {},
   "outputs": [],
   "source": [
    "copy_files_N_times(train_dataset_base_path, f\"{new_dataset_base_path}/train\", N)\n",
    "copy_files_N_times(valid_dataset_base_path, f\"{new_dataset_base_path}/valid\", N)"
   ]
  },
  {
   "cell_type": "code",
   "execution_count": null,
   "metadata": {},
   "outputs": [],
   "source": [
    "print(1974 * N)\n",
    "print(168 * N)"
   ]
  },
  {
   "cell_type": "markdown",
   "metadata": {},
   "source": [
    "# Person dataset annotation 값 +2, copy to interation-1_8_times"
   ]
  },
  {
   "cell_type": "code",
   "execution_count": null,
   "metadata": {},
   "outputs": [],
   "source": [
    "# 기존의 person dataset copy\n",
    "person_dataset_path = f\"{data_base_path}/EBRL_Person-1\"\n",
    "destination_dataset_path = new_dataset_base_path"
   ]
  },
  {
   "cell_type": "code",
   "execution_count": null,
   "metadata": {},
   "outputs": [],
   "source": [
    "f\"{person_dataset_path}/valid\""
   ]
  },
  {
   "cell_type": "code",
   "execution_count": null,
   "metadata": {},
   "outputs": [],
   "source": [
    "def copy_and_increase_annotation_index(source_path, destination_path, number):\n",
    "    filename_list = get_filename_list(source_path, \"txt\")\n",
    "    print(len(filename_list))\n",
    "    for filename in filename_list:\n",
    "        # JPG 그대로 복사\n",
    "        shutil.copyfile(f\"{source_path}/{filename}.jpg\", f\"{destination_path}/{filename}.jpg\")\n",
    "\n",
    "        # TXT ANNOTATION number 만큼 증가\n",
    "        with open(f\"{source_path}/{filename}.txt\", \"r\") as f:\n",
    "            lines = f.readlines()\n",
    "        with open(f\"{destination_path}/{filename}.txt\", \"w\") as f:\n",
    "            for line in lines:\n",
    "                line = str(int(line[0]) + number) + line[1:]\n",
    "                f.write(line)"
   ]
  },
  {
   "cell_type": "code",
   "execution_count": null,
   "metadata": {},
   "outputs": [],
   "source": [
    "copy_and_increase_annotation_index(f\"{person_dataset_path}/valid\", f\"{destination_dataset_path}/valid\", 2)"
   ]
  },
  {
   "cell_type": "code",
   "execution_count": null,
   "metadata": {},
   "outputs": [],
   "source": [
    "copy_and_increase_annotation_index(f\"{person_dataset_path}/train\", f\"{destination_dataset_path}/train\", 2)"
   ]
  },
  {
   "cell_type": "markdown",
   "metadata": {},
   "source": [
    "(Interaction-1_8_times) train: 15792, valid: 1344  \n",
    "(EBRL_Person-1) train: 15466, valid: 1326\n",
    "\n",
    "(Interaction-1_8_times) train: 31258, valid: 2670\n"
   ]
  }
 ],
 "metadata": {
  "interpreter": {
   "hash": "f93aa1650d632d4decfe668cf374c3f9b660787eef075fca0f0a890b23d3af03"
  },
  "kernelspec": {
   "display_name": "Python 3.7.11 ('yolov4')",
   "language": "python",
   "name": "python3"
  },
  "language_info": {
   "codemirror_mode": {
    "name": "ipython",
    "version": 3
   },
   "file_extension": ".py",
   "mimetype": "text/x-python",
   "name": "python",
   "nbconvert_exporter": "python",
   "pygments_lexer": "ipython3",
   "version": "3.7.11"
  },
  "orig_nbformat": 4
 },
 "nbformat": 4,
 "nbformat_minor": 2
}
