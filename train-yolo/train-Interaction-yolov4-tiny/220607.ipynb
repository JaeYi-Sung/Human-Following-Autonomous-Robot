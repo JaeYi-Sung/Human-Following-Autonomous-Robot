{
 "cells": [
  {
   "cell_type": "code",
   "execution_count": null,
   "metadata": {},
   "outputs": [],
   "source": [
    "import os, subprocess"
   ]
  },
  {
   "cell_type": "code",
   "execution_count": null,
   "metadata": {},
   "outputs": [],
   "source": [
    "yolov4_base_path = \"/home/erbl/Git/RealTime-Object-Detection/darknet-yolo/yolov4-tiny-220607\""
   ]
  },
  {
   "cell_type": "code",
   "execution_count": null,
   "metadata": {},
   "outputs": [],
   "source": [
    "os.makedirs(yolov4_base_path, exist_ok=True)"
   ]
  },
  {
   "cell_type": "markdown",
   "metadata": {},
   "source": [
    "# 1. darknet 설치\n",
    "https://webnautes.tistory.com/1482\n",
    "\n",
    "## 1.1 github clone"
   ]
  },
  {
   "cell_type": "code",
   "execution_count": null,
   "metadata": {},
   "outputs": [],
   "source": [
    "os.chdir(yolov4_base_path)"
   ]
  },
  {
   "cell_type": "code",
   "execution_count": null,
   "metadata": {},
   "outputs": [],
   "source": [
    "!git clone https://github.com/AlexeyAB/darknet.git"
   ]
  },
  {
   "cell_type": "markdown",
   "metadata": {},
   "source": [
    "## 1.2 Makefile 수정\n",
    "```\n",
    "# GPU, CUDNN, OPENCV, LIBSO 1로 하기\n",
    "GPU=1 \n",
    "CUDNN=1 \n",
    "CUDNN_HALF=0 \n",
    "OPENCV=1 \n",
    "AVX=0 \n",
    "OPENMP=0 \n",
    "LIBSO=1\n",
    "\n",
    "# ARCH 주석 변경 (GPU: GeForce RTX 2070)\n",
    "ARCH= -gencode arch=compute_75,code=[sm_75,compute_75]\n",
    "\n",
    "# NVCC 주석 변경\n",
    "NVCC=/usr/local/cuda-10.2/bin/nvcc\n",
    "```"
   ]
  },
  {
   "cell_type": "markdown",
   "metadata": {},
   "source": [
    "## 1.3 MAKE"
   ]
  },
  {
   "cell_type": "code",
   "execution_count": null,
   "metadata": {},
   "outputs": [],
   "source": [
    "darknet_path = f\"{yolov4_base_path}/darknet\"\n",
    "print(darknet_path)"
   ]
  },
  {
   "cell_type": "code",
   "execution_count": null,
   "metadata": {},
   "outputs": [],
   "source": [
    "os.chdir(darknet_path)\n",
    "!pwd"
   ]
  },
  {
   "cell_type": "code",
   "execution_count": null,
   "metadata": {},
   "outputs": [],
   "source": [
    "!make"
   ]
  },
  {
   "cell_type": "markdown",
   "metadata": {},
   "source": [
    "---"
   ]
  },
  {
   "cell_type": "markdown",
   "metadata": {},
   "source": [
    "# 2. darknet 파일 추가, 수정하기"
   ]
  },
  {
   "cell_type": "markdown",
   "metadata": {},
   "source": [
    "폴더 구조\n",
    "- darknet\n",
    "  - data folder\n",
    "    - labels folder\n",
    "    - obj folder\n",
    "    - obj.data file\n",
    "    - obj.names file\n",
    "    - (test.txt)\n",
    "    - (train.txt)\n",
    "  - cfg folder\n",
    "    - yolov4-tiny-custom.cfg\n",
    "  - yolov4-tiny.weights\n",
    "- training"
   ]
  },
  {
   "cell_type": "markdown",
   "metadata": {},
   "source": [
    "## 2.1. cfg 폴더의 yolov4-tiny-custom.cfg 수정\n",
    "\n",
    "1. yolov4-tiny-custom.cfg 외 모든 파일 삭제\n",
    "2. yolov4-tiny-custom.cfg 수정\n",
    "   - batch=64\n",
    "   - **subdivision=16 or 32 or 64**\n",
    "   - width=416, height=416\n",
    "   - max_batches = (class 개수) * 2000 (단, training images 수 이상, 6000 이상)\n",
    "   - steps=80% and 90% of max_batches\n",
    "   - [yolo] 직전에 있는, 3개의 [convolutional] filters=(classes + 5) * 3\n",
    "   - 3개의 [yolo] classes = (class 개수)\n",
    "   - **learning rate, angle, saturation, exposure, hue 추가로 바꿀 수 있음**"
   ]
  },
  {
   "cell_type": "markdown",
   "metadata": {},
   "source": [
    "> yolov4-tiny-custom.cfg 수정 결과\n",
    ">   - batch=64\n",
    ">   - **subdivision=16 or 32 or 64** \n",
    ">     - 32 설정\n",
    ">   - width=416, height=416\n",
    ">   - max_batches = 8000\n",
    ">     - Train Dataset(7762)\n",
    ">   - steps = 6400,7200\n",
    ">   - [yolo] 직전에 있는, 3개의 [convolutional] filters=21\n",
    ">   - 3개의 [yolo] classes = 2\n",
    ">   - **learning rate, angle, saturation, exposure, hue 추가로 바꿀 수 있음**"
   ]
  },
  {
   "cell_type": "markdown",
   "metadata": {},
   "source": [
    "## 2.2. data 폴더\n",
    "1. labels 폴더 외 모두 삭제\n",
    "2. obj.data\n",
    "3. obj.names"
   ]
  },
  {
   "cell_type": "markdown",
   "metadata": {},
   "source": [
    "### 2.2.2. obj.data"
   ]
  },
  {
   "cell_type": "code",
   "execution_count": null,
   "metadata": {},
   "outputs": [],
   "source": [
    "# 클래스 인데싱 딕셔너리\n",
    "class_dir = {'closer': 0, 'stop': 1} # 수정, 추가 필요"
   ]
  },
  {
   "cell_type": "code",
   "execution_count": null,
   "metadata": {},
   "outputs": [],
   "source": [
    "with open(darknet_path+\"/data/obj.data\", \"w\") as f:\n",
    "    lines = f\"classes = {len(class_dir)}\\n\"\n",
    "    lines += f\"train = {darknet_path}/data/train.txt\\n\"\n",
    "    lines += f\"valid = {darknet_path}/data/valid.txt\\n\"\n",
    "    lines += f\"names = {darknet_path}/data/obj.names\\n\"\n",
    "    lines += f\"backup = {yolov4_base_path}/training\\n\"\n",
    "    f.write(lines)"
   ]
  },
  {
   "cell_type": "markdown",
   "metadata": {},
   "source": [
    "### 2.2.3. obj.names"
   ]
  },
  {
   "cell_type": "code",
   "execution_count": null,
   "metadata": {},
   "outputs": [],
   "source": [
    "with open(darknet_path+\"/data/obj.names\", \"w\") as f:\n",
    "    lines = \"\"\n",
    "    for name in class_dir.keys():\n",
    "        lines += name + '\\n'\n",
    "    f.write(lines)"
   ]
  },
  {
   "cell_type": "markdown",
   "metadata": {},
   "source": [
    "## 2.3. 학습 결과 weights 파일 저장될 Training 폴더 만들기"
   ]
  },
  {
   "cell_type": "code",
   "execution_count": null,
   "metadata": {},
   "outputs": [],
   "source": [
    "os.makedirs(yolov4_base_path+\"/training\", exist_ok=True)"
   ]
  },
  {
   "cell_type": "markdown",
   "metadata": {},
   "source": [
    "---"
   ]
  },
  {
   "cell_type": "markdown",
   "metadata": {},
   "source": [
    "# 3. Labeled Custom Data"
   ]
  },
  {
   "cell_type": "markdown",
   "metadata": {},
   "source": [
    "1. 로보플로우에서 데이터 다운 후, person 데이터셋 합치기\n",
    "2. 데이터셋 파일 리스트 만들기"
   ]
  },
  {
   "cell_type": "markdown",
   "metadata": {},
   "source": [
    "## 3.1. 로보플로우에서 데이터 다운\n",
    "위치: /home/erbl/data/roboflow/"
   ]
  },
  {
   "cell_type": "code",
   "execution_count": null,
   "metadata": {},
   "outputs": [],
   "source": [
    "data_base_path = \"/home/erbl/data/roboflow/\""
   ]
  },
  {
   "cell_type": "code",
   "execution_count": null,
   "metadata": {},
   "outputs": [],
   "source": [
    "os.chdir(data_base_path)\n",
    "!pwd"
   ]
  },
  {
   "cell_type": "code",
   "execution_count": null,
   "metadata": {},
   "outputs": [],
   "source": [
    "!pip install roboflow\n",
    "\n",
    "from roboflow import Roboflow\n",
    "rf = Roboflow(api_key=\"X2gvBX7Me32fy3mU0Fkz\")\n",
    "project = rf.workspace(\"ebrlhfr-interaction\").project(\"hfr_interaction\")\n",
    "dataset = project.version(2).download(\"darknet\")"
   ]
  },
  {
   "cell_type": "code",
   "execution_count": null,
   "metadata": {},
   "outputs": [],
   "source": [
    "data_path = f\"{data_base_path}/HFR_Interaction-2\""
   ]
  },
  {
   "cell_type": "markdown",
   "metadata": {},
   "source": [
    "## 3.2. 데이터셋 train.txt & test.txt 만들기"
   ]
  },
  {
   "cell_type": "code",
   "execution_count": null,
   "metadata": {},
   "outputs": [],
   "source": [
    "import glob\n",
    "\n",
    "def create_image_path_txt_file(dataset_type, data_path=data_path, darknet_path=darknet_path):\n",
    "    image_list = glob.glob(f\"{data_path}/{dataset_type}/*.jpg\")\n",
    "    with open(f\"{darknet_path}/data/{dataset_type}.txt\", \"w\") as f:\n",
    "        f.write(\"\\n\".join(image_list) + \"\\n\")\n"
   ]
  },
  {
   "cell_type": "code",
   "execution_count": null,
   "metadata": {},
   "outputs": [],
   "source": [
    "create_image_path_txt_file(\"train\")"
   ]
  },
  {
   "cell_type": "code",
   "execution_count": null,
   "metadata": {},
   "outputs": [],
   "source": [
    "create_image_path_txt_file(\"valid\")"
   ]
  },
  {
   "cell_type": "markdown",
   "metadata": {},
   "source": [
    "---"
   ]
  },
  {
   "cell_type": "markdown",
   "metadata": {},
   "source": [
    "# 4. download weights"
   ]
  },
  {
   "cell_type": "code",
   "execution_count": null,
   "metadata": {},
   "outputs": [],
   "source": [
    "os.chdir(darknet_path)\n",
    "!pwd"
   ]
  },
  {
   "cell_type": "code",
   "execution_count": null,
   "metadata": {},
   "outputs": [],
   "source": [
    "download_weight = \"wget https://github.com/AlexeyAB/darknet/releases/download/darknet_yolo_v4_pre/yolov4-tiny.weights\"\n",
    "subprocess.call(list(download_weight.split()))"
   ]
  },
  {
   "cell_type": "markdown",
   "metadata": {},
   "source": [
    "---\n",
    "# 5. Training"
   ]
  },
  {
   "cell_type": "code",
   "execution_count": null,
   "metadata": {},
   "outputs": [],
   "source": [
    "print(yolov4_base_path)\n",
    "print(darknet_path)"
   ]
  },
  {
   "cell_type": "code",
   "execution_count": null,
   "metadata": {},
   "outputs": [],
   "source": [
    "os.chdir(darknet_path)\n",
    "!pwd"
   ]
  },
  {
   "cell_type": "code",
   "execution_count": null,
   "metadata": {},
   "outputs": [],
   "source": [
    "train_yolo_tiny = f\"./darknet detector train {darknet_path}/data/obj.data {darknet_path}/cfg/yolov4-tiny-custom.cfg {darknet_path}/yolov4-tiny.weights -map\""
   ]
  },
  {
   "cell_type": "code",
   "execution_count": null,
   "metadata": {},
   "outputs": [],
   "source": [
    "subprocess.call(list(train_yolo_tiny.split()))"
   ]
  },
  {
   "cell_type": "markdown",
   "metadata": {},
   "source": [
    "# Check mAP"
   ]
  },
  {
   "cell_type": "markdown",
   "metadata": {},
   "source": [
    "darknet/cfg/yolov4-tiny-custom.cfg 파일 변경하고 TEST하기"
   ]
  },
  {
   "cell_type": "code",
   "execution_count": null,
   "metadata": {},
   "outputs": [],
   "source": [
    "test_map_yolo_tiny = f\"./darknet detector map {darknet_path}/data/obj.data {darknet_path}/cfg/yolov4-tiny-custom.cfg {yolov4_base_path}/training/yolov4-tiny-custom_best.weights -points 0\""
   ]
  },
  {
   "cell_type": "code",
   "execution_count": null,
   "metadata": {},
   "outputs": [],
   "source": [
    "subprocess.call(list(test_map_yolo_tiny.split()))"
   ]
  },
  {
   "cell_type": "markdown",
   "metadata": {},
   "source": [
    "# Run detector on a live webcam"
   ]
  },
  {
   "cell_type": "code",
   "execution_count": null,
   "metadata": {},
   "outputs": [],
   "source": [
    "test_live_webcam_yolo_tiny = f\"./darknet detector demo {darknet_path}/data/obj.data {darknet_path}/cfg/yolov4-tiny-custom.cfg {yolov4_base_path}/training/yolov4-tiny-custom_best.weights -thresh 0.5\""
   ]
  },
  {
   "cell_type": "code",
   "execution_count": null,
   "metadata": {},
   "outputs": [],
   "source": [
    "subprocess.call(list(test_live_webcam_yolo_tiny.split()))"
   ]
  }
 ],
 "metadata": {
  "interpreter": {
   "hash": "f93aa1650d632d4decfe668cf374c3f9b660787eef075fca0f0a890b23d3af03"
  },
  "kernelspec": {
   "display_name": "Python 3.7.11 ('yolov4')",
   "language": "python",
   "name": "python3"
  },
  "language_info": {
   "codemirror_mode": {
    "name": "ipython",
    "version": 3
   },
   "file_extension": ".py",
   "mimetype": "text/x-python",
   "name": "python",
   "nbconvert_exporter": "python",
   "pygments_lexer": "ipython3",
   "version": "3.7.11"
  },
  "orig_nbformat": 4
 },
 "nbformat": 4,
 "nbformat_minor": 2
}
