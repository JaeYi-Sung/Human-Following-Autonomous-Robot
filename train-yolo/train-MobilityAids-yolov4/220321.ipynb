{
 "cells": [
  {
   "cell_type": "code",
   "execution_count": null,
   "metadata": {},
   "outputs": [],
   "source": [
    "import os, shutil, yaml, subprocess"
   ]
  },
  {
   "cell_type": "markdown",
   "metadata": {},
   "source": [
    "# Labeled Custom Data"
   ]
  },
  {
   "cell_type": "markdown",
   "metadata": {},
   "source": [
    "## 파일 정리하기"
   ]
  },
  {
   "cell_type": "markdown",
   "metadata": {},
   "source": [
    "### 파일 리스트 만들기"
   ]
  },
  {
   "cell_type": "code",
   "execution_count": null,
   "metadata": {},
   "outputs": [],
   "source": [
    "png_img_base_path = \"/home/erbl/data/MedicalAids/Images_RGB\"\n",
    "train_label_base_path = \"/home/erbl/data/MedicalAids/Annotations_RGB\"\n",
    "test_label_base_path = \"/home/erbl/data/MedicalAids/Annotations_RGB_TestSet2\"\n",
    "\n",
    "img_list = list(map(lambda x: os.path.splitext(x)[0], os.listdir(png_img_base_path)))\n",
    "train_label_list = list(map(lambda x: os.path.splitext(x)[0], os.listdir(train_label_base_path)))\n",
    "test_label_list = list(map(lambda x: os.path.splitext(x)[0], os.listdir(test_label_base_path)))\n",
    "\n",
    "print(img_list[:10])"
   ]
  },
  {
   "cell_type": "code",
   "execution_count": null,
   "metadata": {},
   "outputs": [],
   "source": [
    "# train, test 비율\n",
    "total, train, test = len(img_list), len(train_label_list), len(test_label_list)\n",
    "\n",
    "print(\"train: \", f\"{train/total*100: .2f}\", \"%\")\n",
    "print(\"test: \", f\"{test/total*100: .2f}\", \"%\")"
   ]
  },
  {
   "cell_type": "markdown",
   "metadata": {},
   "source": [
    "### 파일 변환 (png to jpg) 및 이동"
   ]
  },
  {
   "cell_type": "code",
   "execution_count": null,
   "metadata": {},
   "outputs": [],
   "source": [
    "yolov4_base_path = \"/home/erbl/Git/RealTime-Object-Detection/yolov4-train\"\n",
    "darknet_path = f\"{yolov4_base_path}/darknet\"\n",
    "obj_base_path = jpg_img_base_path = f\"{darknet_path}/data/obj\""
   ]
  },
  {
   "cell_type": "code",
   "execution_count": null,
   "metadata": {},
   "outputs": [],
   "source": [
    "\n",
    "os.makedirs(yolov4_base_path, exist_ok=True)\n",
    "os.makedirs(jpg_img_base_path, exist_ok=True)"
   ]
  },
  {
   "cell_type": "code",
   "execution_count": null,
   "metadata": {},
   "outputs": [],
   "source": [
    "# PNG TO JPG\n",
    "os.makedirs(jpg_img_base_path, exist_ok=True)\n",
    "for img in img_list:\n",
    "    subprocess.call([\"convert\", f\"{png_img_base_path}/{img}.png\", f\"{jpg_img_base_path}/{img}.jpg\"])"
   ]
  },
  {
   "cell_type": "markdown",
   "metadata": {},
   "source": [
    "## train.txt & test.txt 만들기\n",
    "고민되는 점: 여기서 suffle 한 후 train test split??"
   ]
  },
  {
   "cell_type": "code",
   "execution_count": null,
   "metadata": {},
   "outputs": [],
   "source": [
    "print(yolov4_base_path)\n",
    "print(jpg_img_base_path)\n",
    "print(obj_base_path)\n",
    "print(darknet_path)"
   ]
  },
  {
   "cell_type": "code",
   "execution_count": null,
   "metadata": {},
   "outputs": [],
   "source": [
    "with open(f\"{darknet_path}/data/train.txt\", \"w\") as f:\n",
    "    lines = \"\"\n",
    "    for train_filename in train_label_list:\n",
    "        lines += f\"{jpg_img_base_path}/{train_filename}.jpg\\n\"\n",
    "    f.write(lines)"
   ]
  },
  {
   "cell_type": "code",
   "execution_count": null,
   "metadata": {},
   "outputs": [],
   "source": [
    "with open(f\"{darknet_path}/data/test.txt\", \"w\") as f:\n",
    "    lines = \"\"\n",
    "    for test_filename in test_label_list:\n",
    "        lines += f\"{jpg_img_base_path}/{test_filename}.jpg\\n\"\n",
    "    f.write(lines)"
   ]
  },
  {
   "cell_type": "markdown",
   "metadata": {},
   "source": [
    "## annotation 파일 형식 변환 (yml to txt)"
   ]
  },
  {
   "cell_type": "markdown",
   "metadata": {},
   "source": [
    "### 새로운 형식의 파일 만들기"
   ]
  },
  {
   "cell_type": "code",
   "execution_count": null,
   "metadata": {},
   "outputs": [],
   "source": [
    "# 클래스 인데싱 딕셔너리\n",
    "class_dir = {'person': 0, 'wheelchair': 1, 'push_wheelchair': 2, 'crutches': 3, 'walking_frame': 4} # 수정, 추가 필요"
   ]
  },
  {
   "cell_type": "code",
   "execution_count": null,
   "metadata": {},
   "outputs": [],
   "source": [
    "# 한 이미지의 annotation 정보들 바꾸어 리스트로 반환\n",
    "def transform_annotation(annotations):\n",
    "\n",
    "\t\tresults = []\n",
    "\t\tif 'object' in annotations['annotation']:\n",
    "\n",
    "\t\t\tobjs = annotations['annotation']['object']\n",
    "\t\t\theight = int(annotations['annotation']['size']['height'])\n",
    "\t\t\twidth = int(annotations['annotation']['size']['width'])\n",
    "\n",
    "\t\t\tfor i in range(len(objs)): # i: bndbox 물체들의 인덱스\n",
    "\t\t\t\txmax = int(objs[i]['bndbox']['xmax'])\n",
    "\t\t\t\txmin = int(objs[i]['bndbox']['xmin'])\n",
    "\t\t\t\tymax = int(objs[i]['bndbox']['ymax'])\n",
    "\t\t\t\tymin = int(objs[i]['bndbox']['ymin'])\n",
    "\t\t\t\t\n",
    "\t\t\t\t# 중심값, normalized된 값\n",
    "\t\t\t\tcenter_x = (xmax + xmin) / (2 * width)\n",
    "\t\t\t\tcenter_y = (ymax + ymin) / (2 * height)\n",
    "\t\t\t\tbbox_width = (xmax - xmin) / width\n",
    "\t\t\t\tbbox_height = (ymax - ymin) / height\n",
    "\n",
    "\t\t\t\t# class 이름을 index로\n",
    "\t\t\t\tclass_idx = class_dir[objs[i]['name']]\n",
    "\t\t\t\tresults.append([class_idx, center_x, center_y, bbox_width, bbox_height])\n",
    "\t\t\t\n",
    "\t\treturn results"
   ]
  },
  {
   "cell_type": "code",
   "execution_count": null,
   "metadata": {},
   "outputs": [],
   "source": [
    "print(obj_base_path)"
   ]
  },
  {
   "cell_type": "code",
   "execution_count": null,
   "metadata": {},
   "outputs": [],
   "source": [
    "# # test annotations\n",
    "# for label_filename in test_label_list:\n",
    "# \twith open(f\"{test_label_base_path}/{label_filename}.yml\") as f:\n",
    "# \t\t# yaml 파일에서 annotation 정보 로드받기\n",
    "# \t\tannotations = yaml.load(f, Loader=yaml.FullLoader)\t\t\n",
    "\n",
    "# \t\t# 새로운 annotation 값 계산\n",
    "# \t\tnew_annotations = transform_annotation(annotations)\n",
    "\n",
    "# \t# txt 형태의 annotation 파일 만들기\n",
    "# \twith open(f\"{obj_base_path}/{label_filename}.txt\", \"w\") as f:\n",
    "# \t\tfor annotation in new_annotations:\n",
    "# \t\t\tline = \" \".join(map(str, annotation)) + \"\\n\"\n",
    "# \t\t\tf.write(line)"
   ]
  },
  {
   "cell_type": "code",
   "execution_count": null,
   "metadata": {},
   "outputs": [],
   "source": [
    "# # train annotations\n",
    "# for label_filename in train_label_list:\n",
    "# \twith open(f\"{train_label_base_path}/{label_filename}.yml\") as f:\n",
    "# \t\t# yaml 파일에서 annotation 정보 로드받기\n",
    "# \t\tannotations = yaml.load(f, Loader=yaml.FullLoader)\t\t\n",
    "\n",
    "# \t\t# 새로운 annotation 값 계산\n",
    "# \t\tnew_annotations = transform_annotation(annotations)\n",
    "\n",
    "# \t# txt 형태의 annotation 파일 만들기\n",
    "# \twith open(f\"{obj_base_path}/{label_filename}.txt\", \"w\") as f:\n",
    "# \t\tfor annotation in new_annotations:\n",
    "# \t\t\tline = \" \".join(map(str, annotation)) + \"\\n\"\n",
    "# \t\t\tf.write(line)"
   ]
  },
  {
   "cell_type": "code",
   "execution_count": null,
   "metadata": {},
   "outputs": [],
   "source": [
    "def create_yaml_to_txt_annototations(base_path, filename_list):\n",
    "    for filename in filename_list:\n",
    "        with open(f\"{base_path}/{filename}.yml\") as f:\n",
    "            # yaml 파일에서 annotation 정보 로드받기\n",
    "            annotations = yaml.load(f, Loader=yaml.FullLoader)\t\t\n",
    "\n",
    "            # 새로운 annotation 값 계산\n",
    "            new_annotations = transform_annotation(annotations)\n",
    "\n",
    "        # txt 형태의 annotation 파일 만들기\n",
    "        with open(f\"{obj_base_path}/{filename}.txt\", \"w\") as f:\n",
    "            for annotation in new_annotations:\n",
    "                line = \" \".join(map(str, annotation)) + \"\\n\"\n",
    "                f.write(line)"
   ]
  },
  {
   "cell_type": "code",
   "execution_count": null,
   "metadata": {},
   "outputs": [],
   "source": [
    "create_yaml_to_txt_annototations(test_label_base_path, test_label_list)\n",
    "create_yaml_to_txt_annototations(train_label_base_path, train_label_list)\n"
   ]
  },
  {
   "cell_type": "markdown",
   "metadata": {},
   "source": [
    "# Custom cfg file"
   ]
  },
  {
   "cell_type": "markdown",
   "metadata": {},
   "source": [
    "# obj.data & obj.names file"
   ]
  },
  {
   "cell_type": "markdown",
   "metadata": {},
   "source": [
    "## obj.data"
   ]
  },
  {
   "cell_type": "code",
   "execution_count": null,
   "metadata": {},
   "outputs": [],
   "source": [
    "print(darknet_path)\n",
    "print(yolov4_base_path)"
   ]
  },
  {
   "cell_type": "code",
   "execution_count": null,
   "metadata": {},
   "outputs": [],
   "source": [
    "with open(darknet_path+\"/data/obj.data\", \"w\") as f:\n",
    "    lines = f\"classes = {len(class_dir)}\\n\"\n",
    "    lines += f\"train = {darknet_path}/data/train.txt\\n\"\n",
    "    lines += f\"valid = {darknet_path}/data/test.txt\\n\"\n",
    "    lines += f\"names = {darknet_path}/data/obj.names\\n\"\n",
    "    lines += f\"backup = {yolov4_base_path}/training\\n\"\n",
    "    f.write(lines)"
   ]
  },
  {
   "cell_type": "markdown",
   "metadata": {},
   "source": [
    "## obj.names"
   ]
  },
  {
   "cell_type": "code",
   "execution_count": null,
   "metadata": {},
   "outputs": [],
   "source": [
    "with open(darknet_path+\"data/obj.names\", \"w\") as f:\n",
    "    lines = \"\"\n",
    "    for name in class_dir.keys():\n",
    "        lines += name + '\\n'\n",
    "    f.write(lines)"
   ]
  },
  {
   "cell_type": "markdown",
   "metadata": {},
   "source": [
    "# darknet"
   ]
  },
  {
   "cell_type": "code",
   "execution_count": null,
   "metadata": {},
   "outputs": [],
   "source": [
    "# %cd /home/erbl/Git/RealTime-Object-Detection/yolov4-train/darknet\n",
    "# !find ./data -mindepth 1 ! -regex '^./data/labels(/.*)?' -delete"
   ]
  },
  {
   "cell_type": "code",
   "execution_count": null,
   "metadata": {},
   "outputs": [],
   "source": [
    "# subprocess(['rm', '-rf', f'{darknet_path}/cfg'])\n",
    "# subprocess([\"mkdir\", f\"{darknet_path}/cfg\"])"
   ]
  },
  {
   "cell_type": "markdown",
   "metadata": {},
   "source": [
    "Firstly, clean the cfg & data folders. Delete all files inside the data folder except the labels folder which is required for writing label names on the detection boxes and also delete all files inside the cfg folder as we already have our custom config file in the yolov4 main folder.\n",
    "\n",
    "Next, copy all the files:\n",
    "\n",
    "    - Copy yolov4-custom.cfg to the darknet/cfg directory.\n",
    "    - Copy obj.names, obj.data and the obj folder to the darknet/data directory.\n",
    "    - Copy process.py to the darknet directory."
   ]
  },
  {
   "cell_type": "markdown",
   "metadata": {},
   "source": [
    "5(a) Copy the obj dataset folder so that it is now in /darknet/data/ folder"
   ]
  },
  {
   "cell_type": "markdown",
   "metadata": {},
   "source": [
    "5(b) Copy your yolov4-custom.cfg file so that it is now in /darknet/cfg/ folder"
   ]
  },
  {
   "cell_type": "markdown",
   "metadata": {},
   "source": [
    "5(c) Copy the obj.names and obj.data files so that they are now in /darknet/data/ folder"
   ]
  },
  {
   "cell_type": "markdown",
   "metadata": {},
   "source": [
    "## download weights"
   ]
  },
  {
   "cell_type": "code",
   "execution_count": null,
   "metadata": {},
   "outputs": [],
   "source": [
    "subprocess.call(f\"cd {darknet_path}\", shell=True)\n",
    "!pwd"
   ]
  },
  {
   "cell_type": "code",
   "execution_count": null,
   "metadata": {},
   "outputs": [],
   "source": [
    "download_weight = \"wget https://github.com/AlexeyAB/darknet/releases/download/darknet_yolo_v3_optimal/yolov4.conv.137\"\n",
    "subprocess.call(list(download_weight.split()))"
   ]
  },
  {
   "cell_type": "markdown",
   "metadata": {},
   "source": [
    "# darknet 설치\n",
    "https://webnautes.tistory.com/1482"
   ]
  },
  {
   "cell_type": "code",
   "execution_count": null,
   "metadata": {},
   "outputs": [],
   "source": [
    "%cd /home/erbl/Git/RealTime-Object-Detection/yolov4-train"
   ]
  },
  {
   "cell_type": "code",
   "execution_count": null,
   "metadata": {},
   "outputs": [],
   "source": [
    "!git clone https://github.com/AlexeyAB/darknet.git"
   ]
  },
  {
   "cell_type": "markdown",
   "metadata": {},
   "source": [
    "Makefile\n",
    "```\n",
    "GPU=1 \n",
    "CUDNN=1 \n",
    "CUDNN_HALF=0 \n",
    "OPENCV=1 \n",
    "AVX=0 \n",
    "OPENMP=0 \n",
    "LIBSO=1\n",
    "```"
   ]
  },
  {
   "cell_type": "code",
   "execution_count": null,
   "metadata": {},
   "outputs": [],
   "source": [
    "%cd /home/erbl/Git/RealTime-Object-Detection/yolov4-train/darknet"
   ]
  },
  {
   "cell_type": "code",
   "execution_count": null,
   "metadata": {},
   "outputs": [],
   "source": [
    "!make"
   ]
  },
  {
   "cell_type": "markdown",
   "metadata": {},
   "source": [
    "# Training"
   ]
  },
  {
   "cell_type": "code",
   "execution_count": null,
   "metadata": {},
   "outputs": [],
   "source": [
    "print(darknet_path)"
   ]
  },
  {
   "cell_type": "code",
   "execution_count": null,
   "metadata": {},
   "outputs": [],
   "source": [
    "%cd /home/erbl/Git/RealTime-Object-Detection/yolov4-train/darknet"
   ]
  },
  {
   "cell_type": "code",
   "execution_count": null,
   "metadata": {},
   "outputs": [],
   "source": [
    "!./darknet detector train \"/home/erbl/Git/RealTime-Object-Detection/yolov4-train/darknet/data/obj.data\" \"/home/erbl/Git/RealTime-Object-Detection/yolov4-train/darknet/cfg/yolov4-custom.cfg\" \"/home/erbl/Git/RealTime-Object-Detection/yolov4-train/darknet/yolov4.conv.137\" -map"
   ]
  },
  {
   "cell_type": "markdown",
   "metadata": {},
   "source": [
    "# Check mAP"
   ]
  },
  {
   "cell_type": "code",
   "execution_count": null,
   "metadata": {},
   "outputs": [],
   "source": [
    "!./darknet detector map \"/home/erbl/Git/RealTime-Object-Detection/yolov4-train/darknet/data/obj.data\" \"/home/erbl/Git/RealTime-Object-Detection/yolov4-train/darknet/cfg/yolov4-custom.cfg\" \"/home/erbl/Git/RealTime-Object-Detection/yolov4-train/training/yolov4-custom_best.weights\" -points 0"
   ]
  },
  {
   "cell_type": "markdown",
   "metadata": {},
   "source": [
    "# Run detector on a live webcam"
   ]
  },
  {
   "cell_type": "code",
   "execution_count": null,
   "metadata": {},
   "outputs": [],
   "source": [
    "!./darknet detector demo \"/home/erbl/Git/RealTime-Object-Detection/yolov4-train/darknet/data/obj.data\" \"/home/erbl/Git/RealTime-Object-Detection/yolov4-train/darknet/cfg/yolov4-custom.cfg\" \"/home/erbl/Git/RealTime-Object-Detection/yolov4-train/training/yolov4-custom_best.weights\" -thresh 0.5"
   ]
  }
 ],
 "metadata": {
  "interpreter": {
   "hash": "f93aa1650d632d4decfe668cf374c3f9b660787eef075fca0f0a890b23d3af03"
  },
  "kernelspec": {
   "display_name": "Python 3.7.11 ('yolov4')",
   "language": "python",
   "name": "python3"
  },
  "language_info": {
   "codemirror_mode": {
    "name": "ipython",
    "version": 3
   },
   "file_extension": ".py",
   "mimetype": "text/x-python",
   "name": "python",
   "nbconvert_exporter": "python",
   "pygments_lexer": "ipython3",
   "version": "3.7.11"
  },
  "orig_nbformat": 4
 },
 "nbformat": 4,
 "nbformat_minor": 2
}
