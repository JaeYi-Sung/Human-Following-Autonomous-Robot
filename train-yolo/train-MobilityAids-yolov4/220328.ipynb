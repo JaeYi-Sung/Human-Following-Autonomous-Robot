{
 "cells": [
  {
   "cell_type": "code",
   "execution_count": null,
   "metadata": {},
   "outputs": [],
   "source": [
    "import os, yaml, subprocess, random"
   ]
  },
  {
   "cell_type": "code",
   "execution_count": null,
   "metadata": {},
   "outputs": [],
   "source": [
    "yolov4_base_path = \"/home/erbl/Git/RealTime-Object-Detection/yolov4-220328\""
   ]
  },
  {
   "cell_type": "code",
   "execution_count": null,
   "metadata": {},
   "outputs": [],
   "source": [
    "os.makedirs(yolov4_base_path, exist_ok=True)"
   ]
  },
  {
   "cell_type": "markdown",
   "metadata": {},
   "source": [
    "# darknet 설치\n",
    "https://webnautes.tistory.com/1482"
   ]
  },
  {
   "cell_type": "code",
   "execution_count": null,
   "metadata": {},
   "outputs": [],
   "source": [
    "os.chdir(yolov4_base_path)"
   ]
  },
  {
   "cell_type": "code",
   "execution_count": null,
   "metadata": {},
   "outputs": [],
   "source": [
    "!git clone https://github.com/AlexeyAB/darknet.git"
   ]
  },
  {
   "cell_type": "markdown",
   "metadata": {},
   "source": [
    "Makefile\n",
    "```\n",
    "GPU=1 \n",
    "CUDNN=1 \n",
    "CUDNN_HALF=0 \n",
    "OPENCV=1 \n",
    "AVX=0 \n",
    "OPENMP=0 \n",
    "LIBSO=1\n",
    "```"
   ]
  },
  {
   "cell_type": "code",
   "execution_count": null,
   "metadata": {},
   "outputs": [],
   "source": [
    "darknet_path = f\"{yolov4_base_path}/darknet\"\n",
    "print(darknet_path)"
   ]
  },
  {
   "cell_type": "code",
   "execution_count": null,
   "metadata": {},
   "outputs": [],
   "source": [
    "os.chdir(darknet_path)\n",
    "!pwd"
   ]
  },
  {
   "cell_type": "code",
   "execution_count": null,
   "metadata": {},
   "outputs": [],
   "source": [
    "!make"
   ]
  },
  {
   "cell_type": "markdown",
   "metadata": {},
   "source": [
    "# darknet 파일 추가, 수정하기"
   ]
  },
  {
   "cell_type": "markdown",
   "metadata": {},
   "source": [
    "폴더 구조\n",
    "- darknet\n",
    "  - data folder\n",
    "    - labels folder\n",
    "    - obj folder\n",
    "    - obj.data file\n",
    "    - obj.names file\n",
    "    - (test.txt)\n",
    "    - (train.txt)\n",
    "  - cfg folder\n",
    "    - yolov4-custom.cfg\n",
    "- training"
   ]
  },
  {
   "cell_type": "markdown",
   "metadata": {},
   "source": [
    "## cfg 폴더의 yolov4-custom.cfg\n",
    "1. yolov4-custom.cfg 외 모든 파일 삭제\n",
    "2. yolov4-custom.cfg 수정\n",
    "   - batch=64\n",
    "   - **subdivision=16 or 32 or 64**\n",
    "   - width=416, height=416\n",
    "   - max_batches = (class 개수) * 2000 (단, training images 수 이상, 6000 이상)\n",
    "   - steps=80% and 90% of max_batches\n",
    "   - [yolo] 직전에 있는, 3개의 [convolutional] filters=(classes + 5) * 3\n",
    "   - 3개의 [yolo] classes = (class 개수)\n",
    "   - **learning rate, angle, saturation, exposure, hue 추가로 바꿀 수 있음**"
   ]
  },
  {
   "cell_type": "markdown",
   "metadata": {},
   "source": [
    "yolov4-custom.cfg 수정\n",
    "   - batch=64\n",
    "   - **subdivision=16 or 32 or 64** \n",
    "     - 16 설정: memory 초과\n",
    "     - 32 설정\n",
    "   - width=416, height=416\n",
    "   - max_batches = 20000\n",
    "   - steps= 16000,18000\n",
    "   - [yolo] 직전에 있는, 3개의 [convolutional] filters=30\n",
    "   - 3개의 [yolo] classes = 5\n",
    "   - **learning rate, angle, saturation, exposure, hue 추가로 바꿀 수 있음**"
   ]
  },
  {
   "cell_type": "markdown",
   "metadata": {},
   "source": [
    "## data 폴더\n",
    "1. labels 폴더 외 모두 삭제\n",
    "2. obj.data\n",
    "3. obj.names"
   ]
  },
  {
   "cell_type": "markdown",
   "metadata": {},
   "source": [
    "## obj.data"
   ]
  },
  {
   "cell_type": "code",
   "execution_count": null,
   "metadata": {},
   "outputs": [],
   "source": [
    "# 클래스 인데싱 딕셔너리\n",
    "class_dir = {'person': 0, 'wheelchair': 1, 'push_wheelchair': 2, 'crutches': 3, 'walking_frame': 4} # 수정, 추가 필요"
   ]
  },
  {
   "cell_type": "code",
   "execution_count": null,
   "metadata": {},
   "outputs": [],
   "source": [
    "with open(darknet_path+\"/data/obj.data\", \"w\") as f:\n",
    "    lines = f\"classes = {len(class_dir)}\\n\"\n",
    "    lines += f\"train = {darknet_path}/data/train.txt\\n\"\n",
    "    lines += f\"valid = {darknet_path}/data/test.txt\\n\"\n",
    "    lines += f\"names = {darknet_path}/data/obj.names\\n\"\n",
    "    lines += f\"backup = {yolov4_base_path}/training\\n\"\n",
    "    f.write(lines)"
   ]
  },
  {
   "cell_type": "markdown",
   "metadata": {},
   "source": [
    "## obj.names"
   ]
  },
  {
   "cell_type": "code",
   "execution_count": null,
   "metadata": {},
   "outputs": [],
   "source": [
    "with open(darknet_path+\"/data/obj.names\", \"w\") as f:\n",
    "    lines = \"\"\n",
    "    for name in class_dir.keys():\n",
    "        lines += name + '\\n'\n",
    "    f.write(lines)"
   ]
  },
  {
   "cell_type": "markdown",
   "metadata": {},
   "source": [
    "## 학습 결과 weights 파일 저장될 Training 폴더 만들기"
   ]
  },
  {
   "cell_type": "code",
   "execution_count": null,
   "metadata": {},
   "outputs": [],
   "source": [
    "os.makedirs(yolov4_base_path+\"/training\", exist_ok=True)"
   ]
  },
  {
   "cell_type": "markdown",
   "metadata": {},
   "source": [
    "---"
   ]
  },
  {
   "cell_type": "markdown",
   "metadata": {},
   "source": [
    "# Labeled Custom Data"
   ]
  },
  {
   "cell_type": "code",
   "execution_count": null,
   "metadata": {},
   "outputs": [],
   "source": [
    "obj_base_path = jpg_img_base_path = f\"{darknet_path}/data/obj\"\n",
    "print(obj_base_path)"
   ]
  },
  {
   "cell_type": "markdown",
   "metadata": {},
   "source": [
    "## 파일 정리하기"
   ]
  },
  {
   "cell_type": "markdown",
   "metadata": {},
   "source": [
    "### 파일 리스트 만들기"
   ]
  },
  {
   "cell_type": "code",
   "execution_count": null,
   "metadata": {},
   "outputs": [],
   "source": [
    "png_img_base_path = \"/home/erbl/data/MedicalAids/Images_RGB\"\n",
    "train_label_base_path = \"/home/erbl/data/MedicalAids/Annotations_RGB\"\n",
    "test_label_base_path = \"/home/erbl/data/MedicalAids/Annotations_RGB_TestSet2\"\n",
    "\n",
    "img_list = list(map(lambda x: os.path.splitext(x)[0], os.listdir(png_img_base_path)))\n",
    "train_label_list = list(map(lambda x: os.path.splitext(x)[0], os.listdir(train_label_base_path)))\n",
    "test_label_list = list(map(lambda x: os.path.splitext(x)[0], os.listdir(test_label_base_path)))\n",
    "\n",
    "print(img_list[:10])"
   ]
  },
  {
   "cell_type": "code",
   "execution_count": null,
   "metadata": {},
   "outputs": [],
   "source": [
    "# train, test 비율\n",
    "total, train, test = len(img_list), len(train_label_list), len(test_label_list)\n",
    "\n",
    "print(\"train: \", f\"{train/total*100: .2f}\", \"%\")\n",
    "print(\"test: \", f\"{test/total*100: .2f}\", \"%\")"
   ]
  },
  {
   "cell_type": "markdown",
   "metadata": {},
   "source": [
    "### 파일 변환 (png to jpg) 및 이동"
   ]
  },
  {
   "cell_type": "code",
   "execution_count": null,
   "metadata": {},
   "outputs": [],
   "source": [
    "os.makedirs(jpg_img_base_path, exist_ok=True)"
   ]
  },
  {
   "cell_type": "code",
   "execution_count": null,
   "metadata": {},
   "outputs": [],
   "source": [
    "# PNG TO JPG\n",
    "os.makedirs(jpg_img_base_path, exist_ok=True)\n",
    "for img in img_list:\n",
    "    subprocess.call([\"convert\", f\"{png_img_base_path}/{img}.png\", f\"{jpg_img_base_path}/{img}.jpg\"])"
   ]
  },
  {
   "cell_type": "code",
   "execution_count": null,
   "metadata": {},
   "outputs": [],
   "source": [
    "print(yolov4_base_path)\n",
    "print(darknet_path)\n",
    "print(jpg_img_base_path)\n",
    "print(obj_base_path)"
   ]
  },
  {
   "cell_type": "markdown",
   "metadata": {},
   "source": [
    "## train.txt & test.txt 만들기\n",
    "shuffle 한 후 train test split"
   ]
  },
  {
   "cell_type": "code",
   "execution_count": null,
   "metadata": {},
   "outputs": [],
   "source": [
    "print(img_list[:10])\n",
    "random_img_list = sorted(img_list, key=lambda x: random.random())\n",
    "print(random_img_list[:10])"
   ]
  },
  {
   "cell_type": "code",
   "execution_count": null,
   "metadata": {},
   "outputs": [],
   "source": [
    "idx = round(len(random_img_list)*0.8)\n",
    "print(idx)"
   ]
  },
  {
   "cell_type": "code",
   "execution_count": null,
   "metadata": {},
   "outputs": [],
   "source": [
    "train_img_list = random_img_list[:idx+1]\n",
    "test_img_list = random_img_list[idx+1:]\n",
    "print(len(train_img_list), len(test_img_list))"
   ]
  },
  {
   "cell_type": "code",
   "execution_count": null,
   "metadata": {},
   "outputs": [],
   "source": [
    "def make_txt_file(filename_list, type):\n",
    "    with open(f\"{darknet_path}/data/{type}.txt\", \"w\") as f:\n",
    "        lines = \"\"\n",
    "        for filename in filename_list:\n",
    "            lines += f\"{jpg_img_base_path}/{filename}.jpg\\n\"\n",
    "        f.write(lines)\n"
   ]
  },
  {
   "cell_type": "code",
   "execution_count": null,
   "metadata": {},
   "outputs": [],
   "source": [
    "make_txt_file(train_img_list, \"train\")\n",
    "make_txt_file(test_img_list, \"test\")"
   ]
  },
  {
   "cell_type": "code",
   "execution_count": null,
   "metadata": {},
   "outputs": [],
   "source": [
    "# with open(f\"{darknet_path}/data/train.txt\", \"w\") as f:\n",
    "#     lines = \"\"\n",
    "#     for train_filename in train_label_list:\n",
    "#         lines += f\"{jpg_img_base_path}/{train_filename}.jpg\\n\"\n",
    "#     f.write(lines)"
   ]
  },
  {
   "cell_type": "code",
   "execution_count": null,
   "metadata": {},
   "outputs": [],
   "source": [
    "# with open(f\"{darknet_path}/data/test.txt\", \"w\") as f:\n",
    "#     lines = \"\"\n",
    "#     for test_filename in test_label_list:\n",
    "#         lines += f\"{jpg_img_base_path}/{test_filename}.jpg\\n\"\n",
    "#     f.write(lines)"
   ]
  },
  {
   "cell_type": "markdown",
   "metadata": {},
   "source": [
    "## annotation 파일 형식 변환 (yml to txt)"
   ]
  },
  {
   "cell_type": "markdown",
   "metadata": {},
   "source": [
    "### 새로운 형식의 파일 만들기"
   ]
  },
  {
   "cell_type": "code",
   "execution_count": null,
   "metadata": {},
   "outputs": [],
   "source": [
    "# 한 이미지의 annotation 정보들 바꾸어 리스트로 반환\n",
    "def transform_annotation(annotations):\n",
    "\n",
    "\t\tresults = []\n",
    "\t\tif 'object' in annotations['annotation']:\n",
    "\n",
    "\t\t\tobjs = annotations['annotation']['object']\n",
    "\t\t\theight = int(annotations['annotation']['size']['height'])\n",
    "\t\t\twidth = int(annotations['annotation']['size']['width'])\n",
    "\n",
    "\t\t\tfor i in range(len(objs)): # i: bndbox 물체들의 인덱스\n",
    "\t\t\t\txmax = int(objs[i]['bndbox']['xmax'])\n",
    "\t\t\t\txmin = int(objs[i]['bndbox']['xmin'])\n",
    "\t\t\t\tymax = int(objs[i]['bndbox']['ymax'])\n",
    "\t\t\t\tymin = int(objs[i]['bndbox']['ymin'])\n",
    "\t\t\t\t\n",
    "\t\t\t\t# 중심값, normalized된 값\n",
    "\t\t\t\tcenter_x = (xmax + xmin) / (2 * width)\n",
    "\t\t\t\tcenter_y = (ymax + ymin) / (2 * height)\n",
    "\t\t\t\tbbox_width = (xmax - xmin) / width\n",
    "\t\t\t\tbbox_height = (ymax - ymin) / height\n",
    "\n",
    "\t\t\t\t# class 이름을 index로\n",
    "\t\t\t\tclass_idx = class_dir[objs[i]['name']]\n",
    "\t\t\t\tresults.append([class_idx, center_x, center_y, bbox_width, bbox_height])\n",
    "\t\t\t\n",
    "\t\treturn results"
   ]
  },
  {
   "cell_type": "code",
   "execution_count": null,
   "metadata": {},
   "outputs": [],
   "source": [
    "print(obj_base_path)"
   ]
  },
  {
   "cell_type": "code",
   "execution_count": null,
   "metadata": {},
   "outputs": [],
   "source": [
    "def create_yaml_to_txt_annototations(base_path, filename_list):\n",
    "    for filename in filename_list:\n",
    "        with open(f\"{base_path}/{filename}.yml\") as f:\n",
    "            # yaml 파일에서 annotation 정보 로드받기\n",
    "            annotations = yaml.load(f, Loader=yaml.FullLoader)\t\t\n",
    "\n",
    "            # 새로운 annotation 값 계산\n",
    "            new_annotations = transform_annotation(annotations)\n",
    "\n",
    "        # txt 형태의 annotation 파일 만들기\n",
    "        with open(f\"{obj_base_path}/{filename}.txt\", \"w\") as f:\n",
    "            for annotation in new_annotations:\n",
    "                line = \" \".join(map(str, annotation)) + \"\\n\"\n",
    "                f.write(line)"
   ]
  },
  {
   "cell_type": "code",
   "execution_count": null,
   "metadata": {},
   "outputs": [],
   "source": [
    "create_yaml_to_txt_annototations(test_label_base_path, test_label_list)\n",
    "create_yaml_to_txt_annototations(train_label_base_path, train_label_list)\n"
   ]
  },
  {
   "cell_type": "markdown",
   "metadata": {},
   "source": [
    "## download weights"
   ]
  },
  {
   "cell_type": "code",
   "execution_count": null,
   "metadata": {},
   "outputs": [],
   "source": [
    "os.chdir(darknet_path)\n",
    "!pwd"
   ]
  },
  {
   "cell_type": "code",
   "execution_count": null,
   "metadata": {},
   "outputs": [],
   "source": [
    "download_weight = \"wget https://github.com/AlexeyAB/darknet/releases/download/darknet_yolo_v3_optimal/yolov4.conv.137\"\n",
    "subprocess.call(list(download_weight.split()))"
   ]
  },
  {
   "cell_type": "markdown",
   "metadata": {},
   "source": [
    "# Training"
   ]
  },
  {
   "cell_type": "code",
   "execution_count": null,
   "metadata": {},
   "outputs": [],
   "source": [
    "print(darknet_path)"
   ]
  },
  {
   "cell_type": "code",
   "execution_count": null,
   "metadata": {},
   "outputs": [],
   "source": [
    "os.chdir(darknet_path)\n",
    "!pwd"
   ]
  },
  {
   "cell_type": "code",
   "execution_count": null,
   "metadata": {},
   "outputs": [],
   "source": [
    "!./darknet detector train \"/home/erbl/Git/RealTime-Object-Detection/yolov4-220328/darknet/data/obj.data\" \"/home/erbl/Git/RealTime-Object-Detection/yolov4-220328/darknet/cfg/yolov4-custom.cfg\" \"/home/erbl/Git/RealTime-Object-Detection/yolov4-220328/darknet/yolov4.conv.137\" -map"
   ]
  },
  {
   "cell_type": "markdown",
   "metadata": {},
   "source": [
    "# Check mAP"
   ]
  },
  {
   "cell_type": "code",
   "execution_count": null,
   "metadata": {},
   "outputs": [],
   "source": [
    "!./darknet detector map \"/home/erbl/Git/RealTime-Object-Detection/yolov4-220328/darknet/data/obj.data\" \"/home/erbl/Git/RealTime-Object-Detection/yolov4-220328/darknet/cfg/yolov4-custom.cfg\" \"/home/erbl/Git/RealTime-Object-Detection/yolov4-220328/training/yolov4-custom_best.weights\" -points 0"
   ]
  },
  {
   "cell_type": "markdown",
   "metadata": {},
   "source": [
    "# Run detector on a live webcam"
   ]
  },
  {
   "cell_type": "code",
   "execution_count": null,
   "metadata": {},
   "outputs": [],
   "source": [
    "!./darknet detector demo \"/home/erbl/Git/RealTime-Object-Detection/yolov4-220328/darknet/data/obj.data\" \"/home/erbl/Git/RealTime-Object-Detection/yolov4-220328/darknet/cfg/yolov4-custom.cfg\" \"/home/erbl/Git/RealTime-Object-Detection/yolov4-220328/training/yolov4-custom_best.weights\" -thresh 0.5"
   ]
  }
 ],
 "metadata": {
  "interpreter": {
   "hash": "f93aa1650d632d4decfe668cf374c3f9b660787eef075fca0f0a890b23d3af03"
  },
  "kernelspec": {
   "display_name": "Python 3.7.11 ('yolov4')",
   "language": "python",
   "name": "python3"
  },
  "language_info": {
   "codemirror_mode": {
    "name": "ipython",
    "version": 3
   },
   "file_extension": ".py",
   "mimetype": "text/x-python",
   "name": "python",
   "nbconvert_exporter": "python",
   "pygments_lexer": "ipython3",
   "version": "3.7.11"
  },
  "orig_nbformat": 4
 },
 "nbformat": 4,
 "nbformat_minor": 2
}
