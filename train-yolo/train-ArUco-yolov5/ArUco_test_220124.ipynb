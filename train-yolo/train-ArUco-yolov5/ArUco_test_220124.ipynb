{
  "nbformat": 4,
  "nbformat_minor": 0,
  "metadata": {
    "colab": {
      "name": "ArUco_test_220124.ipynb",
      "provenance": [],
      "collapsed_sections": []
    },
    "kernelspec": {
      "name": "python3",
      "display_name": "Python 3"
    },
    "language_info": {
      "name": "python"
    },
    "accelerator": "GPU"
  },
  "cells": [
    {
      "cell_type": "code",
      "execution_count": null,
      "metadata": {
        "id": "KmmeZ6iB4t8K"
      },
      "outputs": [],
      "source": [
        "!pip install roboflow\n",
        "\n",
        "from roboflow import Roboflow\n",
        "rf = Roboflow(api_key=\"P5zYa5owcm7Vb2dzQ1vE\")\n",
        "project = rf.workspace().project(\"aruco_220118\")\n",
        "dataset = project.version(1).download(\"yolov5\")"
      ]
    },
    {
      "cell_type": "code",
      "source": [
        "%cd /content\n",
        "!git clone https://github.com/ultralytics/yolov5.git"
      ],
      "metadata": {
        "id": "ftbDiK524zaa"
      },
      "execution_count": null,
      "outputs": []
    },
    {
      "cell_type": "code",
      "source": [
        "%cd /content/yolov5/\n",
        "!pip install -r requirements.txt"
      ],
      "metadata": {
        "id": "JxADeDMT5Hxf"
      },
      "execution_count": null,
      "outputs": []
    },
    {
      "cell_type": "code",
      "source": [
        "%cat /content/ArUco_220118-1/data.yaml"
      ],
      "metadata": {
        "id": "GUiupDpR5M2p"
      },
      "execution_count": null,
      "outputs": []
    },
    {
      "cell_type": "code",
      "source": [
        "%cd /\n",
        "from glob import glob\n",
        "\n",
        "train_img_list = glob('/content/ArUco_220118-1/train/images/*.jpg')\n",
        "val_img_list = glob('/content/ArUco_220118-1/valid/images/*.jpg')\n",
        "\n",
        "print(len(train_img_list), len(val_img_list))"
      ],
      "metadata": {
        "id": "qr1tPyEi5Rtt"
      },
      "execution_count": null,
      "outputs": []
    },
    {
      "cell_type": "code",
      "source": [
        "with open('/content/ArUco_220118-1/train.txt', 'w') as f:\n",
        "  f.write('\\n'.join(train_img_list) + '\\n')\n",
        "\n",
        "with open('/content/ArUco_220118-1/val.txt', 'w') as f:\n",
        "  f.write('\\n'.join(val_img_list) + '\\n')"
      ],
      "metadata": {
        "id": "Q_LdAKZU5iPp"
      },
      "execution_count": null,
      "outputs": []
    },
    {
      "cell_type": "code",
      "source": [
        "import yaml\n",
        "\n",
        "with open('/content/ArUco_220118-1/data.yaml', 'r') as f:\n",
        "  data = yaml.safe_load(f)\n",
        "\n",
        "print(data)\n",
        "\n",
        "data['train'] = '/content/ArUco_220118-1/train.txt'\n",
        "data['val'] = '/content/ArUco_220118-1/val.txt'\n",
        "\n",
        "with open('/content/ArUco_220118-1/data.yaml', 'w') as f:\n",
        "  yaml.dump(data, f)\n",
        "\n",
        "print(data)"
      ],
      "metadata": {
        "id": "_b00uvWf5n4z"
      },
      "execution_count": null,
      "outputs": []
    },
    {
      "cell_type": "code",
      "source": [
        "%cd /content/yolov5\n",
        "\n",
        "!python train.py --img 1024 --batch 16 --epochs 50 --data /content/ArUco_220118-1/data.yaml --cfg ./models/yolov5m.yaml --weights yolov5m.pt --name yolov5m_220124_0"
      ],
      "metadata": {
        "id": "WB6L9Joo5pgW"
      },
      "execution_count": null,
      "outputs": []
    },
    {
      "cell_type": "code",
      "source": [
        "%load_ext tensorboard\n",
        "%tensorboard --logdir /content/yolov5/runs/"
      ],
      "metadata": {
        "id": "TnH6OwsD5rKV"
      },
      "execution_count": null,
      "outputs": []
    },
    {
      "cell_type": "code",
      "source": [
        "from IPython.display import Image\n",
        "import os\n",
        "\n",
        "val_img_path = val_img_list[2]\n",
        "\n",
        "!python detect.py --weights /content/yolov5/runs/train/ArUco_yolov5m_results_0/weights/best.pt --img 416 --conf 0.5 --source \"{val_img_path}\"\n",
        "\n",
        "Image(os.path.join('/content/yolov5/', os.path.basename(val_img_path)))"
      ],
      "metadata": {
        "id": "dhm7oLL05u2d"
      },
      "execution_count": null,
      "outputs": []
    }
  ]
}