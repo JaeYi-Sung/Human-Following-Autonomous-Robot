{
 "cells": [
  {
   "cell_type": "markdown",
   "metadata": {},
   "source": [
    "# 데이터가 저장되어 있던 구조\n",
    "\n",
    "- mobilityaids data: data/MobilityAids_yolov4_obj (yolov4 format, 960x540)\n",
    "\n",
    "- aruco marker: data/ArUco_416_yolov5 (yolov5 format, 234x416)\n",
    "  - test (10596개)\n",
    "    - images \n",
    "    - labels\n",
    "  - valid (630개)\n",
    "    - images\n",
    "    - labels\n",
    "  - train (315개)\n",
    "    - images\n",
    "    - labels"
   ]
  },
  {
   "cell_type": "markdown",
   "metadata": {},
   "source": [
    "# ArUco Marker를 yolov4 format으로 변경\n",
    "1. labels를 모아 클래스 인덱스 값을 +5 해준다.\n",
    "2. images와 labels를 각각 모은다.\n",
    "3. 8:2 비율로 랜덤하게 train, test 리스트를 만든다."
   ]
  },
  {
   "cell_type": "markdown",
   "metadata": {},
   "source": [
    "## 1. labels를 모아 클래스 인덱스 값을 +5 해준다."
   ]
  },
  {
   "cell_type": "code",
   "execution_count": 1,
   "metadata": {},
   "outputs": [
    {
     "name": "stdout",
     "output_type": "stream",
     "text": [
      "/home/erbl/Git/RealTime-Object-Detection/train-Combined-yolov4\n"
     ]
    }
   ],
   "source": [
    "!pwd"
   ]
  },
  {
   "cell_type": "code",
   "execution_count": 19,
   "metadata": {},
   "outputs": [],
   "source": [
    "data_base_path = \"/home/erbl/data\"\n",
    "mobilityaids_yolov4_base_path = f\"{data_base_path}/MobilityAids_yolov4_obj\"\n",
    "aruco_yolov5_base_path = f\"{data_base_path}/ArUco_416_yolov5\"\n",
    "aruco_yolov4_base_path = f\"{data_base_path}/ArUco_416_yolov4_image_label\""
   ]
  },
  {
   "cell_type": "code",
   "execution_count": 20,
   "metadata": {},
   "outputs": [
    {
     "name": "stdout",
     "output_type": "stream",
     "text": [
      "/home/erbl/data/ArUco_416_yolov4_image_label/labels\n"
     ]
    }
   ],
   "source": [
    "aruco_yolov4_label_base_path = f\"{aruco_yolov4_base_path}/labels\"\n",
    "print(aruco_yolov4_label_base_path)\n"
   ]
  },
  {
   "cell_type": "code",
   "execution_count": 21,
   "metadata": {},
   "outputs": [],
   "source": [
    "aruco_train_img_base_path = f\"{aruco_yolov5_base_path}/train/images\"\n",
    "aruco_valid_img_base_path = f\"{aruco_yolov5_base_path}/valid/images\"\n",
    "aruco_test_img_base_path = f\"{aruco_yolov5_base_path}/test/images\"\n",
    "\n",
    "aruco_train_label_base_path = f\"{aruco_yolov5_base_path}/train/labels\"\n",
    "aruco_valid_label_base_path = f\"{aruco_yolov5_base_path}/valid/labels\"\n",
    "aruco_test_label_base_path = f\"{aruco_yolov5_base_path}/test/labels\"\n"
   ]
  },
  {
   "cell_type": "code",
   "execution_count": 36,
   "metadata": {},
   "outputs": [],
   "source": [
    "aruco_train_label_list = list(map(lambda x: os.path.splitext(x)[0], os.listdir(aruco_train_label_base_path)))\n",
    "aruco_valid_label_list = list(map(lambda x: os.path.splitext(x)[0], os.listdir(aruco_valid_label_base_path)))\n",
    "aruco_test_label_list = list(map(lambda x: os.path.splitext(x)[0], os.listdir(aruco_test_label_base_path)))"
   ]
  },
  {
   "cell_type": "code",
   "execution_count": 37,
   "metadata": {},
   "outputs": [
    {
     "name": "stdout",
     "output_type": "stream",
     "text": [
      "['IMG_0257_jpg.rf.c9bb20ce53fd9c6faa6d563785e8850e', 'IMG_0141_jpg.rf.a4f52002e5ae6a2865857a79c62be651', '20220118_195153_jpg.rf.3daae1a645af343fadb5d248027038db', '20220118_153751_jpg.rf.09b7044941ffe830edba2a929e6cca8a', 'IMG_0508_jpg.rf.f6bd18453893ab70a7850e5cb622d441', '20220118_164328_jpg.rf.3781e1c54df20ce48e8ac504867d5037', '20220118_193024_jpg.rf.2c468832fdfc269b2d86224b57079e45', '20220118_164414_jpg.rf.e08b4db73cae564d70d9276d88d29591', '20220118_200336_jpg.rf.0147e254cd5fdb57dddced8817a20853', '20220118_165048_jpg.rf.a9e859c0593c27972f5daab67175e663']\n",
      "10596\n",
      "630\n",
      "315\n"
     ]
    }
   ],
   "source": [
    "print(aruco_train_label_list[:10])\n",
    "print(len(aruco_train_label_list))\n",
    "print(len(aruco_valid_label_list))\n",
    "print(len(aruco_test_label_list))\n"
   ]
  },
  {
   "cell_type": "code",
   "execution_count": 2,
   "metadata": {},
   "outputs": [],
   "source": [
    "import os"
   ]
  },
  {
   "cell_type": "code",
   "execution_count": 56,
   "metadata": {},
   "outputs": [],
   "source": [
    "os.makedirs(aruco_yolov4_base_path, exist_ok=True)"
   ]
  },
  {
   "cell_type": "code",
   "execution_count": 57,
   "metadata": {},
   "outputs": [],
   "source": [
    "os.makedirs(aruco_yolov4_label_base_path, exist_ok=True)\n"
   ]
  },
  {
   "cell_type": "code",
   "execution_count": 52,
   "metadata": {},
   "outputs": [],
   "source": [
    "# 아르코마커 데이터라벨링 변경\n",
    "def transform_labels(source_path, destination_path, label_filename_list):\n",
    "    for filename in label_filename_list:\n",
    "        with open(f\"{source_path}/{filename}.txt\", \"r\") as f:\n",
    "            lines = f.readlines()\n",
    "        with open(f\"{destination_path}/{filename}.txt\", \"w\") as f:\n",
    "            for line in lines:\n",
    "                line = str(int(line[0]) + 5) + line[1:]\n",
    "                f.write(line)"
   ]
  },
  {
   "cell_type": "code",
   "execution_count": 4,
   "metadata": {},
   "outputs": [
    {
     "name": "stdout",
     "output_type": "stream",
     "text": [
      "/home/erbl/data/ArUco_416_yolov5/train/labels\n",
      "/home/erbl/data/ArUco_416_yolov5/valid/labels\n",
      "/home/erbl/data/ArUco_416_yolov5/test/labels\n",
      "/home/erbl/data/ArUco_416_yolov4_obj\n",
      "/home/erbl/data/ArUco_416_yolov4_obj/labels\n"
     ]
    }
   ],
   "source": [
    "print(aruco_train_label_base_path)\n",
    "print(aruco_valid_label_base_path)\n",
    "print(aruco_test_label_base_path)\n",
    "print(aruco_yolov4_base_path)\n",
    "print(aruco_yolov4_label_base_path)"
   ]
  },
  {
   "cell_type": "code",
   "execution_count": 59,
   "metadata": {},
   "outputs": [],
   "source": [
    "transform_labels(aruco_test_label_base_path, aruco_yolov4_label_base_path, aruco_test_label_list)"
   ]
  },
  {
   "cell_type": "code",
   "execution_count": 60,
   "metadata": {},
   "outputs": [],
   "source": [
    "transform_labels(aruco_valid_label_base_path, aruco_yolov4_label_base_path, aruco_valid_label_list)\n"
   ]
  },
  {
   "cell_type": "code",
   "execution_count": 61,
   "metadata": {},
   "outputs": [],
   "source": [
    "transform_labels(aruco_train_label_base_path, aruco_yolov4_label_base_path, aruco_train_label_list)\n"
   ]
  },
  {
   "cell_type": "markdown",
   "metadata": {},
   "source": [
    "## 2. images와 labels를 각각 모은다."
   ]
  },
  {
   "cell_type": "code",
   "execution_count": 22,
   "metadata": {},
   "outputs": [
    {
     "name": "stdout",
     "output_type": "stream",
     "text": [
      "/home/erbl/data/ArUco_416_yolov4_image_label/images\n"
     ]
    }
   ],
   "source": [
    "aruco_yolov4_img_base_path = f\"{aruco_yolov4_base_path}/images\"\n",
    "print(aruco_yolov4_img_base_path)"
   ]
  },
  {
   "cell_type": "code",
   "execution_count": 66,
   "metadata": {},
   "outputs": [],
   "source": [
    "os.makedirs(aruco_yolov4_img_base_path, exist_ok=True)"
   ]
  },
  {
   "cell_type": "code",
   "execution_count": 26,
   "metadata": {},
   "outputs": [],
   "source": [
    "import shutil"
   ]
  },
  {
   "cell_type": "code",
   "execution_count": 67,
   "metadata": {},
   "outputs": [],
   "source": [
    "def copy_files(source_path, destination_path, file_list):\n",
    "    for filename in file_list:\n",
    "        shutil.copyfile(f\"{source_path}/{filename}.jpg\", f\"{destination_path}/{filename}.jpg\")"
   ]
  },
  {
   "cell_type": "code",
   "execution_count": 76,
   "metadata": {},
   "outputs": [],
   "source": [
    "aruco_train_img_list = list(map(lambda x: os.path.splitext(x)[0], os.listdir(aruco_train_img_base_path)))\n",
    "aruco_valid_img_list = list(map(lambda x: os.path.splitext(x)[0], os.listdir(aruco_valid_img_base_path)))\n",
    "aruco_test_img_list = list(map(lambda x: os.path.splitext(x)[0], os.listdir(aruco_test_img_base_path)))"
   ]
  },
  {
   "cell_type": "code",
   "execution_count": 7,
   "metadata": {},
   "outputs": [
    {
     "name": "stdout",
     "output_type": "stream",
     "text": [
      "파일들의 원래 위치:\n",
      "/home/erbl/data/ArUco_416_yolov5/test/images\n",
      "/home/erbl/data/ArUco_416_yolov5/valid/images\n",
      "/home/erbl/data/ArUco_416_yolov5/train/images\n",
      "저장될 폴더 위치: /home/erbl/data/ArUco_416_yolov4_obj/images\n"
     ]
    }
   ],
   "source": [
    "print(\"파일들의 원래 위치:\")\n",
    "print(aruco_test_img_base_path)\n",
    "print(aruco_valid_img_base_path)\n",
    "print(aruco_train_img_base_path)\n",
    "\n",
    "print(f\"저장될 폴더 위치: {aruco_yolov4_img_base_path}\")"
   ]
  },
  {
   "cell_type": "code",
   "execution_count": 77,
   "metadata": {},
   "outputs": [
    {
     "name": "stdout",
     "output_type": "stream",
     "text": [
      "['20220118_200930_jpg.rf.9e9d5c3e90a337eda622733f1e106995', '20220118_193119_jpg.rf.3c1063e5afa5130560852372ab7b1dd5', 'IMG_0299_jpg.rf.09dd2f773aecb2807f644522f8bd410f', 'IMG_9291_jpg.rf.e3f32ae299deb4f133933a9bb84e44cb', '20220118_164315_jpg.rf.728d8cf6c725464ab36f4326db69c912', '20220118_165532_jpg.rf.ac40b51ae6c1883d772b755ab5e0d2f4', '20220118_190023_jpg.rf.94c9c2d0a06afa4557d358da5a199c7a', 'IMG_9297_jpg.rf.7f46643d71846562c02836e327b00e2d', '20220118_190322_jpg.rf.19b5d0d83fbd61f701f5a970d08e40da', '20220118_200728_jpg.rf.54a5fb287686dbe30550471bc7dc3223']\n"
     ]
    }
   ],
   "source": [
    "print(aruco_test_img_list[:10])"
   ]
  },
  {
   "cell_type": "code",
   "execution_count": 80,
   "metadata": {},
   "outputs": [
    {
     "name": "stdout",
     "output_type": "stream",
     "text": [
      "['20220118_203226_jpg.rf.a9749c99709b3ceeacc644c24c070fac', '20220118_164024_jpg.rf.e580eb0d8f3aeb67ce9027d4c56d2ccf', 'IMG_9987_jpg.rf.47f8a09d2738fb0158e63eccf2332656', 'IMG_0509_jpg.rf.0e01caca79412f07cf3fb482bb0d4189', 'IMG_0405_jpg.rf.fc47eb392bb33c744531212702e51c24', '20220118_155053_jpg.rf.b8717a071abe11c9a964d5dbfa46da87', '20220118_185928_jpg.rf.c641cd6bd951b22b9f96edc6ccbef6a1', 'IMG_0502_jpg.rf.b1166d04a1dfb5f2cf2c0238ed3a0667', 'IMG_9469_jpg.rf.2aa5b00610d555378f743e9cc764b267', 'IMG_0095_jpg.rf.5c644e2798e537fe404ed738f8acb417']\n"
     ]
    }
   ],
   "source": [
    "print(aruco_valid_img_list[:10])"
   ]
  },
  {
   "cell_type": "code",
   "execution_count": 78,
   "metadata": {},
   "outputs": [],
   "source": [
    "copy_files(aruco_test_img_base_path, aruco_yolov4_img_base_path, aruco_test_img_list)"
   ]
  },
  {
   "cell_type": "code",
   "execution_count": 79,
   "metadata": {},
   "outputs": [],
   "source": [
    "copy_files(aruco_valid_img_base_path, aruco_yolov4_img_base_path, aruco_valid_img_list)"
   ]
  },
  {
   "cell_type": "code",
   "execution_count": 82,
   "metadata": {},
   "outputs": [],
   "source": [
    "copy_files(aruco_train_img_base_path, aruco_yolov4_img_base_path, aruco_train_img_list)"
   ]
  },
  {
   "cell_type": "markdown",
   "metadata": {},
   "source": [
    "## 3. 9:1 비율로 랜덤하게 train, test 리스트를 만든다."
   ]
  },
  {
   "cell_type": "markdown",
   "metadata": {},
   "source": [
    "### aruco marker의 label과 image를 하나로 합친다."
   ]
  },
  {
   "cell_type": "code",
   "execution_count": 23,
   "metadata": {},
   "outputs": [],
   "source": [
    "aruco_yolov4_base_path = f\"{data_base_path}/ArUco_416_yolov4_obj\""
   ]
  },
  {
   "cell_type": "code",
   "execution_count": 14,
   "metadata": {},
   "outputs": [],
   "source": [
    "os.makedirs(aruco_yolov4_base_path, exist_ok=True)"
   ]
  },
  {
   "cell_type": "code",
   "execution_count": 29,
   "metadata": {},
   "outputs": [],
   "source": [
    "def copy_files_2(source_path, destination_path, type):\n",
    "    filename_list = list(map(lambda x: os.path.splitext(x)[0], os.listdir(source_path)))\n",
    "    for filename in filename_list:\n",
    "        shutil.copyfile(f\"{source_path}/{filename}.{type}\", f\"{destination_path}/{filename}.{type}\")"
   ]
  },
  {
   "cell_type": "code",
   "execution_count": 30,
   "metadata": {},
   "outputs": [
    {
     "name": "stdout",
     "output_type": "stream",
     "text": [
      "/home/erbl/data/ArUco_416_yolov4_image_label/images\n",
      "/home/erbl/data/ArUco_416_yolov4_obj\n"
     ]
    }
   ],
   "source": [
    "print(aruco_yolov4_img_base_path)\n",
    "print(aruco_yolov4_base_path)"
   ]
  },
  {
   "cell_type": "code",
   "execution_count": 31,
   "metadata": {},
   "outputs": [],
   "source": [
    "copy_files_2(aruco_yolov4_img_base_path, aruco_yolov4_base_path, \"jpg\")"
   ]
  },
  {
   "cell_type": "code",
   "execution_count": 33,
   "metadata": {},
   "outputs": [],
   "source": [
    "copy_files_2(aruco_yolov4_label_base_path, aruco_yolov4_base_path, \"txt\")"
   ]
  },
  {
   "cell_type": "markdown",
   "metadata": {},
   "source": [
    "# train test split"
   ]
  },
  {
   "cell_type": "code",
   "execution_count": 9,
   "metadata": {},
   "outputs": [],
   "source": [
    "from glob import glob"
   ]
  },
  {
   "cell_type": "code",
   "execution_count": 34,
   "metadata": {},
   "outputs": [],
   "source": [
    "mobilityaids_img_list = glob(f\"{mobilityaids_yolov4_base_path}/*.jpg\")\n",
    "aruco_img_list = glob(f\"{aruco_yolov4_base_path}/*.jpg\")"
   ]
  },
  {
   "cell_type": "code",
   "execution_count": 35,
   "metadata": {},
   "outputs": [
    {
     "name": "stdout",
     "output_type": "stream",
     "text": [
      "['/home/erbl/data/MobilityAids_yolov4_obj/seq_1477473265.7482783150.jpg', '/home/erbl/data/MobilityAids_yolov4_obj/seq_1477471711.9814641320.jpg', '/home/erbl/data/MobilityAids_yolov4_obj/seq_1477472783.5114606570.jpg', '/home/erbl/data/MobilityAids_yolov4_obj/seq_1477472232.5560287290.jpg', '/home/erbl/data/MobilityAids_yolov4_obj/seq_1477472403.5850677640.jpg']\n",
      "['/home/erbl/data/ArUco_416_yolov4_obj/20220118_201536_jpg.rf.d3bbd012b0964c59a6eccd79581f24db.jpg', '/home/erbl/data/ArUco_416_yolov4_obj/IMG_9477_jpg.rf.c58e9e109eeee68ecc82f09faa8cbef8.jpg', '/home/erbl/data/ArUco_416_yolov4_obj/20220118_191310_jpg.rf.97dcc6ad29e4a7c891ec293264f742e5.jpg', '/home/erbl/data/ArUco_416_yolov4_obj/20220118_203226_jpg.rf.a9749c99709b3ceeacc644c24c070fac.jpg', '/home/erbl/data/ArUco_416_yolov4_obj/IMG_0173_jpg.rf.5f763cd9297108663e4900bbbff1b13f.jpg']\n",
      "17079\n",
      "11541\n"
     ]
    }
   ],
   "source": [
    "print(mobilityaids_img_list[:5])\n",
    "print(aruco_img_list[:5])\n",
    "print(len(mobilityaids_img_list))\n",
    "print(len(aruco_img_list))\n"
   ]
  },
  {
   "cell_type": "code",
   "execution_count": 36,
   "metadata": {},
   "outputs": [
    {
     "name": "stdout",
     "output_type": "stream",
     "text": [
      "/home/erbl/Git/RealTime-Object-Detection/yolov4-220411/darknet\n"
     ]
    }
   ],
   "source": [
    "yolov4_base_path = \"/home/erbl/Git/RealTime-Object-Detection/yolov4-220411\"\n",
    "darknet_path = f\"{yolov4_base_path}/darknet\"\n",
    "print(darknet_path)"
   ]
  },
  {
   "cell_type": "code",
   "execution_count": 37,
   "metadata": {},
   "outputs": [],
   "source": [
    "import random"
   ]
  },
  {
   "cell_type": "code",
   "execution_count": 40,
   "metadata": {},
   "outputs": [],
   "source": [
    "def sort_randomly(list):\n",
    "    return sorted(list, key=lambda x: random.random())"
   ]
  },
  {
   "cell_type": "code",
   "execution_count": 42,
   "metadata": {},
   "outputs": [],
   "source": [
    "def split_train_test(img_list, ratio=0.8):\n",
    "    random_img_list = sort_randomly(img_list)\n",
    "    idx = round(len(random_img_list)*ratio)\n",
    "    train_img_list = random_img_list[:idx+1]\n",
    "    test_img_list = random_img_list[idx+1:]\n",
    "    return train_img_list, test_img_list"
   ]
  },
  {
   "cell_type": "code",
   "execution_count": 43,
   "metadata": {},
   "outputs": [],
   "source": [
    "def write_txt(path, img_list, type):\n",
    "    with open(f\"{path}/{type}.txt\", \"w\") as f:\n",
    "        lines = \"\\n\".join(img_list) + \"\\n\"\n",
    "        f.write(lines)\n"
   ]
  },
  {
   "cell_type": "code",
   "execution_count": 45,
   "metadata": {},
   "outputs": [],
   "source": [
    "aruco_train_img_list, aruco_test_img_list = split_train_test(aruco_img_list)"
   ]
  },
  {
   "cell_type": "code",
   "execution_count": 49,
   "metadata": {},
   "outputs": [
    {
     "name": "stdout",
     "output_type": "stream",
     "text": [
      "['/home/erbl/data/ArUco_416_yolov4_obj/20220118_190239_jpg.rf.658fb617f058094193fc6aa2feff982c.jpg', '/home/erbl/data/ArUco_416_yolov4_obj/IMG_9365_jpg.rf.7ee528bfac36e3bef0ea3ce94621157f.jpg', '/home/erbl/data/ArUco_416_yolov4_obj/20220118_201546_jpg.rf.b26eaee4304d54a397a2ab56c83b411e.jpg', '/home/erbl/data/ArUco_416_yolov4_obj/20220118_200745_jpg.rf.ac163450f4f77929a95ec8830a567eae.jpg', '/home/erbl/data/ArUco_416_yolov4_obj/IMG_9546_jpg.rf.40fd228252dea09e76ab3252f0112a42.jpg']\n",
      "9234\n",
      "2307\n"
     ]
    }
   ],
   "source": [
    "print(aruco_train_img_list[:5])\n",
    "print(len(aruco_train_img_list))\n",
    "print(len(aruco_test_img_list))"
   ]
  },
  {
   "cell_type": "code",
   "execution_count": 50,
   "metadata": {},
   "outputs": [],
   "source": [
    "mobilityaids_train_img_list, mobilityaids_test_img_list = split_train_test(mobilityaids_img_list)"
   ]
  },
  {
   "cell_type": "code",
   "execution_count": 52,
   "metadata": {},
   "outputs": [
    {
     "name": "stdout",
     "output_type": "stream",
     "text": [
      "['/home/erbl/data/MobilityAids_yolov4_obj/seq_1477488555.6522552230.jpg', '/home/erbl/data/MobilityAids_yolov4_obj/seq_1477481094.2262192080.jpg', '/home/erbl/data/MobilityAids_yolov4_obj/seq_1477471238.5053519000.jpg', '/home/erbl/data/MobilityAids_yolov4_obj/seq_1477488333.2743050940.jpg', '/home/erbl/data/MobilityAids_yolov4_obj/seq_1477488445.4400041360.jpg']\n",
      "13664\n",
      "3415\n"
     ]
    }
   ],
   "source": [
    "print(mobilityaids_train_img_list[:5])\n",
    "print(len(mobilityaids_train_img_list))\n",
    "print(len(mobilityaids_test_img_list))"
   ]
  },
  {
   "cell_type": "code",
   "execution_count": 53,
   "metadata": {},
   "outputs": [],
   "source": [
    "train_img_list = aruco_train_img_list + mobilityaids_train_img_list\n",
    "test_img_list = aruco_test_img_list + mobilityaids_test_img_list"
   ]
  },
  {
   "cell_type": "code",
   "execution_count": 58,
   "metadata": {},
   "outputs": [],
   "source": [
    "train_img_list = sort_randomly(train_img_list)\n",
    "test_img_list = sort_randomly(test_img_list)"
   ]
  },
  {
   "cell_type": "code",
   "execution_count": 59,
   "metadata": {},
   "outputs": [
    {
     "name": "stdout",
     "output_type": "stream",
     "text": [
      "22898\n",
      "5722\n"
     ]
    }
   ],
   "source": [
    "print(len(train_img_list))\n",
    "print(len(test_img_list))"
   ]
  },
  {
   "cell_type": "code",
   "execution_count": 60,
   "metadata": {},
   "outputs": [
    {
     "name": "stdout",
     "output_type": "stream",
     "text": [
      "80.00698812019567\n"
     ]
    }
   ],
   "source": [
    "train_size = len(train_img_list)\n",
    "test_size = len(test_img_list)\n",
    "print(train_size/(train_size+test_size)*100)"
   ]
  },
  {
   "cell_type": "code",
   "execution_count": 61,
   "metadata": {},
   "outputs": [],
   "source": [
    "write_txt(f\"{darknet_path}/data\", train_img_list, \"train\")"
   ]
  },
  {
   "cell_type": "code",
   "execution_count": 62,
   "metadata": {},
   "outputs": [],
   "source": [
    "write_txt(f\"{darknet_path}/data\", test_img_list, \"test\")"
   ]
  }
 ],
 "metadata": {
  "interpreter": {
   "hash": "f93aa1650d632d4decfe668cf374c3f9b660787eef075fca0f0a890b23d3af03"
  },
  "kernelspec": {
   "display_name": "Python 3.7.11 ('yolov4')",
   "language": "python",
   "name": "python3"
  },
  "language_info": {
   "codemirror_mode": {
    "name": "ipython",
    "version": 3
   },
   "file_extension": ".py",
   "mimetype": "text/x-python",
   "name": "python",
   "nbconvert_exporter": "python",
   "pygments_lexer": "ipython3",
   "version": "3.7.11"
  },
  "orig_nbformat": 4
 },
 "nbformat": 4,
 "nbformat_minor": 2
}
