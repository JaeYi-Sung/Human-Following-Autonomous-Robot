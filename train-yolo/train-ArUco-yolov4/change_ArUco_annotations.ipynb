{
 "cells": [
  {
   "cell_type": "code",
   "execution_count": 1,
   "metadata": {},
   "outputs": [],
   "source": [
    "import os, shutil\n",
    "from glob import glob"
   ]
  },
  {
   "cell_type": "markdown",
   "metadata": {},
   "source": [
    "# 데이터셋 파일 정리하기"
   ]
  },
  {
   "cell_type": "code",
   "execution_count": 3,
   "metadata": {},
   "outputs": [],
   "source": [
    "data_base_path = \"/home/erbl/data\""
   ]
  },
  {
   "cell_type": "markdown",
   "metadata": {},
   "source": [
    "## 5만큼 증가한 annotation을 가진 아르코마커 데이터셋을 새로운 디렉토리에 복사하기"
   ]
  },
  {
   "cell_type": "code",
   "execution_count": 4,
   "metadata": {},
   "outputs": [],
   "source": [
    "transformed_aruco_base_path = f\"{data_base_path}/ArUco_416_yolov4_obj_plus5\"\n",
    "aruco_base_path = f\"{data_base_path}/ArUco_416_yolov4_obj\"\n",
    "os.makedirs(aruco_base_path, exist_ok=True)"
   ]
  },
  {
   "cell_type": "code",
   "execution_count": null,
   "metadata": {},
   "outputs": [],
   "source": [
    "transformed_aruco_list = glob(f\"{transformed_aruco_base_path}/*.*\")"
   ]
  },
  {
   "cell_type": "code",
   "execution_count": null,
   "metadata": {},
   "outputs": [],
   "source": [
    "print(len(transformed_aruco_list))\n",
    "print(transformed_aruco_list[:3])"
   ]
  },
  {
   "cell_type": "code",
   "execution_count": null,
   "metadata": {},
   "outputs": [],
   "source": [
    "for file in transformed_aruco_list:\n",
    "    shutil.copy(file, aruco_base_path)"
   ]
  },
  {
   "cell_type": "markdown",
   "metadata": {},
   "source": [
    "## LABEL 5 줄이기"
   ]
  },
  {
   "cell_type": "code",
   "execution_count": null,
   "metadata": {},
   "outputs": [],
   "source": [
    "aruco_label_list = glob(f\"{aruco_base_path}/*.txt\")"
   ]
  },
  {
   "cell_type": "code",
   "execution_count": null,
   "metadata": {},
   "outputs": [],
   "source": [
    "print(len(aruco_label_list))\n",
    "print(aruco_label_list[:5])"
   ]
  },
  {
   "cell_type": "code",
   "execution_count": null,
   "metadata": {},
   "outputs": [],
   "source": [
    "# 아르코마커 데이터라벨링 변경\n",
    "def decrease_labels(file_list):\n",
    "    for file in file_list:\n",
    "        with open(file, \"r\") as f:\n",
    "            lines = f.readlines()\n",
    "        with open(file, \"w\") as f:\n",
    "            for line in lines:\n",
    "                line = str(int(line[0]) - 5) + line[1:]\n",
    "                f.write(line)\n"
   ]
  },
  {
   "cell_type": "code",
   "execution_count": null,
   "metadata": {},
   "outputs": [],
   "source": [
    "decrease_labels(aruco_label_list)"
   ]
  },
  {
   "cell_type": "markdown",
   "metadata": {},
   "source": [
    "# 데이터셋 리스트 만들기\n",
    "random하게 9:1로 train, test 데이터셋 split하기"
   ]
  },
  {
   "cell_type": "code",
   "execution_count": 5,
   "metadata": {},
   "outputs": [],
   "source": [
    "import random"
   ]
  },
  {
   "cell_type": "code",
   "execution_count": 6,
   "metadata": {},
   "outputs": [],
   "source": [
    "aruco_img_list = glob(f\"{aruco_base_path}/*.jpg\")"
   ]
  },
  {
   "cell_type": "code",
   "execution_count": null,
   "metadata": {},
   "outputs": [],
   "source": [
    "# def sort_randomly(list):\n",
    "#     return sorted(list, key=lambda x: random.random())"
   ]
  },
  {
   "cell_type": "code",
   "execution_count": null,
   "metadata": {},
   "outputs": [],
   "source": [
    "# def split_train_test(img_list, ratio=0.8):\n",
    "#     random_img_list = sort_randomly(img_list)\n",
    "#     idx = round(len(random_img_list)*ratio)\n",
    "#     train_img_list = random_img_list[:idx+1]\n",
    "#     test_img_list = random_img_list[idx+1:]\n",
    "#     return train_img_list, test_img_list"
   ]
  },
  {
   "cell_type": "code",
   "execution_count": null,
   "metadata": {},
   "outputs": [],
   "source": [
    "# def write_txt(path, img_list, type):\n",
    "#     with open(f\"{path}/{type}.txt\", \"w\") as f:\n",
    "#         lines = \"\\n\".join(img_list) + \"\\n\"\n",
    "#         f.write(lines)"
   ]
  },
  {
   "cell_type": "code",
   "execution_count": 8,
   "metadata": {},
   "outputs": [],
   "source": [
    "# train.txt, test.txt 만듦\n",
    "def write_train_test_txt_file(img_list, yolov4_base_path):\n",
    "    \n",
    "    def sort_randomly(list):\n",
    "        return sorted(list, key=lambda x: random.random())\n",
    "\n",
    "    def split_train_test(img_list, ratio=0.8):\n",
    "        random_img_list = sort_randomly(img_list)\n",
    "        idx = round(len(random_img_list)*ratio)\n",
    "        train_img_list = random_img_list[:idx+1]\n",
    "        test_img_list = random_img_list[idx+1:]\n",
    "        return train_img_list, test_img_list\n",
    "\n",
    "    def write_txt(path, img_list, type):\n",
    "        with open(f\"{path}/{type}.txt\", \"w\") as f:\n",
    "            lines = \"\\n\".join(img_list) + \"\\n\"\n",
    "            f.write(lines)\n",
    "\n",
    "    # randomly split train and test data\n",
    "    train_img_list, test_img_list = split_train_test(sort_randomly(img_list))\n",
    "\n",
    "    # write train.txt and test.txt\n",
    "    darknet_path = f\"{yolov4_base_path}/darknet\"\n",
    "    write_txt(f\"{darknet_path}/data\", train_img_list, \"train\")\n",
    "    write_txt(f\"{darknet_path}/data\", test_img_list, \"test\")"
   ]
  },
  {
   "cell_type": "code",
   "execution_count": 9,
   "metadata": {},
   "outputs": [],
   "source": [
    "yolov4_base_path = \"/home/erbl/Git/RealTime-Object-Detection/yolov4-220415\"\n",
    "write_train_test_txt_file(aruco_img_list, yolov4_base_path)"
   ]
  }
 ],
 "metadata": {
  "interpreter": {
   "hash": "f93aa1650d632d4decfe668cf374c3f9b660787eef075fca0f0a890b23d3af03"
  },
  "kernelspec": {
   "display_name": "Python 3.7.11 ('yolov4')",
   "language": "python",
   "name": "python3"
  },
  "language_info": {
   "codemirror_mode": {
    "name": "ipython",
    "version": 3
   },
   "file_extension": ".py",
   "mimetype": "text/x-python",
   "name": "python",
   "nbconvert_exporter": "python",
   "pygments_lexer": "ipython3",
   "version": "3.7.11"
  },
  "orig_nbformat": 4
 },
 "nbformat": 4,
 "nbformat_minor": 2
}

