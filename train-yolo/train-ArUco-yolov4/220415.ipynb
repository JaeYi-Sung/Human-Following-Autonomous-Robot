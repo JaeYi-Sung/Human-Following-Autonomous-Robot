{
 "cells": [
  {
   "cell_type": "code",
   "execution_count": null,
   "metadata": {},
   "outputs": [],
   "source": [
    "import os, subprocess"
   ]
  },
  {
   "cell_type": "code",
   "execution_count": null,
   "metadata": {},
   "outputs": [],
   "source": [
    "yolov4_base_path = \"/home/erbl/Git/RealTime-Object-Detection/yolov4-220415\""
   ]
  },
  {
   "cell_type": "code",
   "execution_count": null,
   "metadata": {},
   "outputs": [],
   "source": [
    "os.makedirs(yolov4_base_path, exist_ok=True)"
   ]
  },
  {
   "cell_type": "markdown",
   "metadata": {},
   "source": [
    "# darknet 설치\n",
    "https://webnautes.tistory.com/1482"
   ]
  },
  {
   "cell_type": "code",
   "execution_count": null,
   "metadata": {},
   "outputs": [],
   "source": [
    "os.chdir(yolov4_base_path)"
   ]
  },
  {
   "cell_type": "code",
   "execution_count": null,
   "metadata": {},
   "outputs": [],
   "source": [
    "!git clone https://github.com/AlexeyAB/darknet.git"
   ]
  },
  {
   "cell_type": "markdown",
   "metadata": {},
   "source": [
    "Makefile\n",
    "```\n",
    "GPU=1 \n",
    "CUDNN=1 \n",
    "CUDNN_HALF=0 \n",
    "OPENCV=1 \n",
    "AVX=0 \n",
    "OPENMP=0 \n",
    "LIBSO=1\n",
    "```"
   ]
  },
  {
   "cell_type": "code",
   "execution_count": null,
   "metadata": {},
   "outputs": [],
   "source": [
    "darknet_path = f\"{yolov4_base_path}/darknet\"\n",
    "print(darknet_path)"
   ]
  },
  {
   "cell_type": "code",
   "execution_count": null,
   "metadata": {},
   "outputs": [],
   "source": [
    "os.chdir(darknet_path)\n",
    "!pwd"
   ]
  },
  {
   "cell_type": "code",
   "execution_count": null,
   "metadata": {},
   "outputs": [],
   "source": [
    "!make"
   ]
  },
  {
   "cell_type": "markdown",
   "metadata": {},
   "source": [
    "# darknet 파일 추가, 수정하기"
   ]
  },
  {
   "cell_type": "markdown",
   "metadata": {},
   "source": [
    "폴더 구조\n",
    "- darknet\n",
    "  - data folder\n",
    "    - labels folder\n",
    "    - obj folder\n",
    "    - obj.data file\n",
    "    - obj.names file\n",
    "    - (test.txt)\n",
    "    - (train.txt)\n",
    "  - cfg folder\n",
    "    - yolov4-custom.cfg\n",
    "- training"
   ]
  },
  {
   "cell_type": "markdown",
   "metadata": {},
   "source": [
    "## cfg 폴더의 yolov4-custom.cfg\n",
    "1. yolov4-custom.cfg 외 모든 파일 삭제\n",
    "2. yolov4-custom.cfg 수정\n",
    "   - batch=64\n",
    "   - **subdivision=16 or 32 or 64**\n",
    "   - width=416, height=416\n",
    "   - max_batches = (class 개수) * 2000 (단, training images 수 이상, 6000 이상)\n",
    "   - steps=80% and 90% of max_batches\n",
    "   - [yolo] 직전에 있는, 3개의 [convolutional] filters=(classes + 5) * 3\n",
    "   - 3개의 [yolo] classes = (class 개수)\n",
    "   - **learning rate, angle, saturation, exposure, hue 추가로 바꿀 수 있음**"
   ]
  },
  {
   "cell_type": "markdown",
   "metadata": {},
   "source": [
    "yolov4-custom.cfg 수정\n",
    "   - batch=64\n",
    "   - **subdivision=16 or 32 or 64** \n",
    "     - 32 설정\n",
    "   - width=416, height=416\n",
    "   - max_batches = 12000\n",
    "     - ArUcoMarkers(11541)\n",
    "   - steps = 9600,10800\n",
    "   - [yolo] 직전에 있는, 3개의 [convolutional] filters=30\n",
    "   - 3개의 [yolo] classes = 5\n",
    "   - **learning rate, angle, saturation, exposure, hue 추가로 바꿀 수 있음**"
   ]
  },
  {
   "cell_type": "markdown",
   "metadata": {},
   "source": [
    "## data 폴더\n",
    "1. labels 폴더 외 모두 삭제\n",
    "2. obj.data\n",
    "3. obj.names"
   ]
  },
  {
   "cell_type": "markdown",
   "metadata": {},
   "source": [
    "## obj.data"
   ]
  },
  {
   "cell_type": "code",
   "execution_count": null,
   "metadata": {},
   "outputs": [],
   "source": [
    "# 클래스 인데싱 딕셔너리\n",
    "class_dir = {'0': 0, '10': 1, '20': 2, '30': 3, '40': 4} # 수정, 추가 필요"
   ]
  },
  {
   "cell_type": "code",
   "execution_count": null,
   "metadata": {},
   "outputs": [],
   "source": [
    "with open(darknet_path+\"/data/obj.data\", \"w\") as f:\n",
    "    lines = f\"classes = {len(class_dir)}\\n\"\n",
    "    lines += f\"train = {darknet_path}/data/train.txt\\n\"\n",
    "    lines += f\"valid = {darknet_path}/data/test.txt\\n\"\n",
    "    lines += f\"names = {darknet_path}/data/obj.names\\n\"\n",
    "    lines += f\"backup = {yolov4_base_path}/training\\n\"\n",
    "    f.write(lines)"
   ]
  },
  {
   "cell_type": "markdown",
   "metadata": {},
   "source": [
    "## obj.names"
   ]
  },
  {
   "cell_type": "code",
   "execution_count": null,
   "metadata": {},
   "outputs": [],
   "source": [
    "with open(darknet_path+\"/data/obj.names\", \"w\") as f:\n",
    "    lines = \"\"\n",
    "    for name in class_dir.keys():\n",
    "        lines += name + '\\n'\n",
    "    f.write(lines)"
   ]
  },
  {
   "cell_type": "markdown",
   "metadata": {},
   "source": [
    "## 학습 결과 weights 파일 저장될 Training 폴더 만들기"
   ]
  },
  {
   "cell_type": "code",
   "execution_count": null,
   "metadata": {},
   "outputs": [],
   "source": [
    "os.makedirs(yolov4_base_path+\"/training\", exist_ok=True)"
   ]
  },
  {
   "cell_type": "markdown",
   "metadata": {},
   "source": [
    "---"
   ]
  },
  {
   "cell_type": "markdown",
   "metadata": {},
   "source": [
    "# Labeled Custom Data"
   ]
  },
  {
   "cell_type": "markdown",
   "metadata": {},
   "source": [
    "1. 데이터셋 파일 정리하기\n",
    "2. 데이터셋 파일 리스트 만들기"
   ]
  },
  {
   "cell_type": "markdown",
   "metadata": {},
   "source": [
    "## train.txt & test.txt 만들기\n",
    "shuffle 한 후 train test split"
   ]
  },
  {
   "cell_type": "markdown",
   "metadata": {},
   "source": [
    "# download weights"
   ]
  },
  {
   "cell_type": "code",
   "execution_count": null,
   "metadata": {},
   "outputs": [],
   "source": [
    "os.chdir(darknet_path)\n",
    "!pwd"
   ]
  },
  {
   "cell_type": "code",
   "execution_count": null,
   "metadata": {},
   "outputs": [],
   "source": [
    "download_weight = \"wget https://github.com/AlexeyAB/darknet/releases/download/darknet_yolo_v3_optimal/yolov4.conv.137\"\n",
    "subprocess.call(list(download_weight.split()))"
   ]
  },
  {
   "cell_type": "markdown",
   "metadata": {},
   "source": [
    "# Training"
   ]
  },
  {
   "cell_type": "code",
   "execution_count": null,
   "metadata": {},
   "outputs": [],
   "source": [
    "print(darknet_path)"
   ]
  },
  {
   "cell_type": "code",
   "execution_count": null,
   "metadata": {},
   "outputs": [],
   "source": [
    "os.chdir(darknet_path)\n",
    "!pwd"
   ]
  },
  {
   "cell_type": "code",
   "execution_count": null,
   "metadata": {},
   "outputs": [],
   "source": [
    "!./darknet detector train \"/home/erbl/Git/RealTime-Object-Detection/yolov4-220415/darknet/data/obj.data\" \"/home/erbl/Git/RealTime-Object-Detection/yolov4-220415/darknet/cfg/yolov4-custom.cfg\" \"/home/erbl/Git/RealTime-Object-Detection/yolov4-220415/darknet/yolov4.conv.137\" -map"
   ]
  },
  {
   "cell_type": "markdown",
   "metadata": {},
   "source": [
    "# Check mAP"
   ]
  },
  {
   "cell_type": "code",
   "execution_count": null,
   "metadata": {},
   "outputs": [],
   "source": [
    "!./darknet detector map \"/home/erbl/Git/RealTime-Object-Detection/yolov4-220415/darknet/data/obj.data\" \"/home/erbl/Git/RealTime-Object-Detection/yolov4-220415/darknet/cfg/yolov4-custom.cfg\" \"/home/erbl/Git/RealTime-Object-Detection/yolov4-220415/training/yolov4-custom_best.weights\" -points 0"
   ]
  },
  {
   "cell_type": "markdown",
   "metadata": {},
   "source": [
    "# Run detector on a live webcam"
   ]
  },
  {
   "cell_type": "code",
   "execution_count": null,
   "metadata": {},
   "outputs": [],
   "source": [
    "!./darknet detector demo \"/home/erbl/Git/RealTime-Object-Detection/yolov4-220415/darknet/data/obj.data\" \"/home/erbl/Git/RealTime-Object-Detection/yolov4-220415/darknet/cfg/yolov4-custom.cfg\" \"/home/erbl/Git/RealTime-Object-Detection/yolov4-220415/training/yolov4-custom_best.weights\" -thresh 0.5"
   ]
  }
 ],
 "metadata": {
  "interpreter": {
   "hash": "f93aa1650d632d4decfe668cf374c3f9b660787eef075fca0f0a890b23d3af03"
  },
  "kernelspec": {
   "display_name": "Python 3.7.11 ('yolov4')",
   "language": "python",
   "name": "python3"
  },
  "language_info": {
   "codemirror_mode": {
    "name": "ipython",
    "version": 3
   },
   "file_extension": ".py",
   "mimetype": "text/x-python",
   "name": "python",
   "nbconvert_exporter": "python",
   "pygments_lexer": "ipython3",
   "version": "3.7.11"
  },
  "orig_nbformat": 4
 },
 "nbformat": 4,
 "nbformat_minor": 2
}
