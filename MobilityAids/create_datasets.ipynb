{
 "cells": [
  {
   "cell_type": "code",
   "execution_count": 2,
   "metadata": {},
   "outputs": [],
   "source": [
    "import os, shutil, yaml"
   ]
  },
  {
   "cell_type": "markdown",
   "metadata": {},
   "source": [
    "# 이미지 파일 라벨링 파일에 맞게 train, test 파일 split하기"
   ]
  },
  {
   "cell_type": "markdown",
   "metadata": {},
   "source": [
    "## 파일 리스트 만들기"
   ]
  },
  {
   "cell_type": "code",
   "execution_count": 3,
   "metadata": {},
   "outputs": [],
   "source": [
    "img_path = \"/home/erbl/data/MedicalAids/Images_RGB\"\n",
    "train_label_path = \"/home/erbl/data/MedicalAids/Annotations_RGB\"\n",
    "test_label_path = \"/home/erbl/data/MedicalAids/Annotations_RGB_TestSet2\"\n",
    "\n",
    "img_list = list(map(lambda x: os.path.splitext(x)[0], os.listdir(img_path)))\n",
    "train_label_list = list(map(lambda x: os.path.splitext(x)[0], os.listdir(train_label_path)))\n",
    "test_label_list = list(map(lambda x: os.path.splitext(x)[0], os.listdir(test_label_path)))"
   ]
  },
  {
   "cell_type": "code",
   "execution_count": 4,
   "metadata": {},
   "outputs": [
    {
     "name": "stdout",
     "output_type": "stream",
     "text": [
      "test: 11 %\n",
      "train:  89 %\n"
     ]
    }
   ],
   "source": [
    "# train, test 비율\n",
    "total, train, test = len(img_list), len(train_label_list), len(test_label_list)\n",
    "\n",
    "print(\"test:\", round(test/total*100), \"%\")\n",
    "print(\"train: \", round(train/total*100), \"%\")"
   ]
  },
  {
   "cell_type": "markdown",
   "metadata": {},
   "source": [
    "## 파일 생성 및 이동"
   ]
  },
  {
   "cell_type": "code",
   "execution_count": 45,
   "metadata": {},
   "outputs": [],
   "source": [
    "img_base_path = \"/home/erbl/data/MedicalAids/images\"\n",
    "os.makedirs(f\"{img_base_path}/train\", exist_ok=True)\n",
    "os.makedirs(f\"{img_base_path}/test\", exist_ok=True)"
   ]
  },
  {
   "cell_type": "markdown",
   "metadata": {},
   "source": []
  },
  {
   "cell_type": "code",
   "execution_count": 47,
   "metadata": {},
   "outputs": [],
   "source": [
    "destination = f\"{img_base_path}/train\"\n",
    "\n",
    "for filename in train_label_list:\n",
    "    new_path = shutil.copy(f\"{img_path}/{filename}.png\", destination)"
   ]
  },
  {
   "cell_type": "code",
   "execution_count": 46,
   "metadata": {},
   "outputs": [],
   "source": [
    "destination = f\"{img_base_path}/test\"\n",
    "\n",
    "for filename in test_label_list:\n",
    "    new_path = shutil.copy(f\"{img_path}/{filename}.png\", destination)"
   ]
  },
  {
   "cell_type": "markdown",
   "metadata": {},
   "source": [
    "# annotation 파일 형식 변환 (yml to txt)"
   ]
  },
  {
   "cell_type": "code",
   "execution_count": 60,
   "metadata": {},
   "outputs": [
    {
     "name": "stdout",
     "output_type": "stream",
     "text": [
      "/home/erbl/data/MedicalAids/Annotations_RGB/seq_1477472233.1736589970.yml\n",
      "{'annotation': {'filename': 'seq_1477472233.1736589970.png', 'folder': 'mobility-aids', 'object': [{'bndbox': {'depth': 2.96077036857605, 'xmax': '799', 'xmin': '669', 'ymax': '444', 'ymin': '80'}, 'name': 'person'}, {'bndbox': {'depth': 2.178972244262695, 'xmax': '445', 'xmin': '274', 'ymax': '540', 'ymin': '86'}, 'name': 'person'}], 'owner': 'Andres Vasquez', 'segmented': '0', 'size': {'depth': '3', 'height': '540', 'width': '960'}, 'source': '{database: Freiburg Mobility Aids Dataset}'}}\n",
      "seq_1477472233.1736589970.png\n"
     ]
    }
   ],
   "source": [
    "\n",
    "# TEST\n",
    "print(f\"{train_label_path}/{train_label_list[0]}.yml\")\n",
    "with open(f\"{train_label_path}/{train_label_list[0]}.yml\") as f:\n",
    "    annotations = yaml.load(f, Loader=yaml.FullLoader)\n",
    "    filename = annotations['annotation']['filename']\n",
    "\n",
    "print(annotations)\n",
    "print(filename)"
   ]
  },
  {
   "cell_type": "code",
   "execution_count": 14,
   "metadata": {},
   "outputs": [],
   "source": [
    "# txt 형식의 annotation 파일을 담을 새로운 디렉토리 만들기\n",
    "img_base_path = \"/home/erbl/data/MedicalAids/labels\"\n",
    "os.makedirs(f\"{img_base_path}/train\", exist_ok=True)\n",
    "os.makedirs(f\"{img_base_path}/test\", exist_ok=True)"
   ]
  },
  {
   "cell_type": "markdown",
   "metadata": {},
   "source": [
    "## 새로운 형식의 파일 만들기"
   ]
  },
  {
   "cell_type": "code",
   "execution_count": null,
   "metadata": {},
   "outputs": [],
   "source": [
    "# 클래스 인데싱 딕셔너리 -> 변경 필요\n",
    "class_dir = {'person': 0, 'wheelchair': 1, 'push_wheelchair': 2, 'crutches': 3, 'walking_frame': 4} # 수정, 추가 필요"
   ]
  },
  {
   "cell_type": "code",
   "execution_count": 29,
   "metadata": {},
   "outputs": [],
   "source": [
    "# 한 이미지의 annotation 정보들 바꾸어 리스트로 반환\n",
    "def transform_annotation(annotations):\n",
    "\n",
    "\t\tresults = []\n",
    "\t\tif 'object' in annotations['annotation']:\n",
    "\n",
    "\t\t\tobjs = annotations['annotation']['object']\n",
    "\t\t\theight = int(annotations['annotation']['size']['height'])\n",
    "\t\t\twidth = int(annotations['annotation']['size']['width'])\n",
    "\n",
    "\t\t\tfor i in range(len(objs)): # i: bndbox 물체들의 인덱스\n",
    "\t\t\t\txmax = int(objs[i]['bndbox']['xmax'])\n",
    "\t\t\t\txmin = int(objs[i]['bndbox']['xmin'])\n",
    "\t\t\t\tymax = int(objs[i]['bndbox']['ymax'])\n",
    "\t\t\t\tymin = int(objs[i]['bndbox']['ymin'])\n",
    "\t\t\t\t\n",
    "\t\t\t\t# 중심값, normalized된 값\n",
    "\t\t\t\tcenter_x = (xmax + xmin) / (2 * width)\n",
    "\t\t\t\tcenter_y = (ymax + ymin) / (2 * height)\n",
    "\t\t\t\tbbox_width = (xmax - xmin) / width\n",
    "\t\t\t\tbbox_height = (ymax - ymin) / height\n",
    "\n",
    "\t\t\t\t# class 이름을 index로\n",
    "\t\t\t\tclass_idx = class_dir[objs[i]['name']]\n",
    "\t\t\t\tresults.append([class_idx, center_x, center_y, bbox_width, bbox_height])\n",
    "\t\t\t\n",
    "\t\treturn results"
   ]
  },
  {
   "cell_type": "code",
   "execution_count": 13,
   "metadata": {},
   "outputs": [
    {
     "name": "stdout",
     "output_type": "stream",
     "text": [
      "[[0, 0.3151041666666667, 0.4583333333333333, 0.053125, 0.1537037037037037], [2, 0.26666666666666666, 0.4740740740740741, 0.04791666666666667, 0.35185185185185186], [2, 0.4244791666666667, 0.45925925925925926, 0.06770833333333333, 0.3592592592592593]]\n"
     ]
    }
   ],
   "source": [
    "# TEST\n",
    "with open(\"/home/erbl/seq_1468843742.4620746090.yml\") as f:\n",
    "    annotations = yaml.load(f, Loader=yaml.FullLoader)\n",
    "    new_annotations = transform_annotation(annotations)\n",
    "\n",
    "print(new_annotations)\n",
    "\n",
    "# 새로운 텍스트 파일 경로 설정 -> 변경 필요!!!!!\n",
    "new_label_base_path = \"/home/erbl/data/MedicalAids/labels/test\" \n",
    "\n",
    "# txt 형태의 annotation 파일 만들기\n",
    "with open(f\"{new_label_base_path}/seq_1468843742.4620746090.txt\", \"w\") as f:\n",
    "    for annotation in new_annotations:\n",
    "        line = \" \".join(map(str, annotation)) + \"\\n\"\n",
    "        f.write(line)"
   ]
  },
  {
   "cell_type": "code",
   "execution_count": 21,
   "metadata": {},
   "outputs": [
    {
     "name": "stdout",
     "output_type": "stream",
     "text": [
      "'/home/erbl/data/MedicalAids/Annotations_RGB_TestSet2'를 읽어 '/home/erbl/data/MedicalAids/labels/test'에 새로운 포맷으로 저장\n"
     ]
    }
   ],
   "source": [
    "# 새로운 텍스트 파일 경로 설정\n",
    "new_label_base_path = \"/home/erbl/data/MedicalAids/labels\" \n",
    "print(f\"'{test_label_path}'를 읽어 '{new_label_base_path}/test'에 새로운 포맷으로 저장\")"
   ]
  },
  {
   "cell_type": "code",
   "execution_count": 24,
   "metadata": {},
   "outputs": [],
   "source": [
    "# test annotations\n",
    "for label_path in test_label_list:\n",
    "\twith open(f\"{test_label_path}/{label_path}.yml\") as f:\n",
    "\t\t# yaml 파일에서 annotation 정보 로드받기\n",
    "\t\tannotations = yaml.load(f, Loader=yaml.FullLoader)\n",
    "\t\tfilename = annotations['annotation']['filename']\t\t\n",
    "\n",
    "\t\t# 새로운 annotation 값 계산\n",
    "\t\tnew_annotations = transform_annotation(annotations)\n",
    "\n",
    "\t# txt 형태의 annotation 파일 만들기\n",
    "\twith open(f\"{new_label_base_path}/test/{label_path}.txt\", \"w\") as f:\n",
    "\t\tfor annotation in new_annotations:\n",
    "\t\t\tline = \" \".join(map(str, annotation)) + \"\\n\"\n",
    "\t\t\tf.write(line)"
   ]
  },
  {
   "cell_type": "code",
   "execution_count": 27,
   "metadata": {},
   "outputs": [
    {
     "name": "stdout",
     "output_type": "stream",
     "text": [
      "'/home/erbl/data/MedicalAids/Annotations_RGB'를 읽어 '/home/erbl/data/MedicalAids/labels/train'에 새로운 포맷으로 저장\n"
     ]
    }
   ],
   "source": [
    "# 새로운 텍스트 파일 경로 설정\n",
    "print(f\"'{train_label_path}'를 읽어 '{new_label_base_path}/train'에 새로운 포맷으로 저장\")"
   ]
  },
  {
   "cell_type": "code",
   "execution_count": 30,
   "metadata": {},
   "outputs": [],
   "source": [
    "# train annotations\n",
    "for label_path in train_label_list:\n",
    "\twith open(f\"{train_label_path}/{label_path}.yml\") as f:\n",
    "\t\t# yaml 파일에서 annotation 정보 로드받기\n",
    "\t\tannotations = yaml.load(f, Loader=yaml.FullLoader)\n",
    "\t\t# filename = annotations['annotation']['filename']\t\t\n",
    "\n",
    "\t\t# 새로운 annotation 값 계산\n",
    "\t\tnew_annotations = transform_annotation(annotations)\n",
    "\n",
    "\t# txt 형태의 annotation 파일 만들기\n",
    "\twith open(f\"{new_label_base_path}/train/{label_path}.txt\", \"w\") as f:\n",
    "\t\tfor annotation in new_annotations:\n",
    "\t\t\tline = \" \".join(map(str, annotation)) + \"\\n\"\n",
    "\t\t\tf.write(line)"
   ]
  }
 ],
 "metadata": {
  "interpreter": {
   "hash": "f93aa1650d632d4decfe668cf374c3f9b660787eef075fca0f0a890b23d3af03"
  },
  "kernelspec": {
   "display_name": "Python 3.7.11 ('yolov4')",
   "language": "python",
   "name": "python3"
  },
  "language_info": {
   "codemirror_mode": {
    "name": "ipython",
    "version": 3
   },
   "file_extension": ".py",
   "mimetype": "text/x-python",
   "name": "python",
   "nbconvert_exporter": "python",
   "pygments_lexer": "ipython3",
   "version": "3.7.11"
  },
  "orig_nbformat": 4
 },
 "nbformat": 4,
 "nbformat_minor": 2
}
